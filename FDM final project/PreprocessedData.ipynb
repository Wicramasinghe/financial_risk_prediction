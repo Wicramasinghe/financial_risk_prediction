{
 "cells": [
  {
   "cell_type": "markdown",
   "id": "30305190-32e6-4422-9522-6c5ff2b0aa8a",
   "metadata": {},
   "source": [
    "## Import libraries"
   ]
  },
  {
   "cell_type": "code",
   "execution_count": 1,
   "id": "ae9185ac-f1ab-40d9-afc9-a4f812a37afe",
   "metadata": {},
   "outputs": [],
   "source": [
    "import pandas as pd\n",
    "import numpy as np\n"
   ]
  },
  {
   "cell_type": "code",
   "execution_count": 3,
   "id": "2c4c796b-48f0-4c7d-98a0-bcfc08f1b3b7",
   "metadata": {},
   "outputs": [],
   "source": [
    "import seaborn as sns\n",
    "import matplotlib.pyplot as plt"
   ]
  },
  {
   "cell_type": "markdown",
   "id": "9828deb5-2d7a-45f7-aa35-401eb1e0bf43",
   "metadata": {},
   "source": [
    "## Import the dataset"
   ]
  },
  {
   "cell_type": "code",
   "execution_count": 5,
   "id": "4efed021-5080-491b-a54d-0db29b1d7191",
   "metadata": {},
   "outputs": [],
   "source": [
    "df = pd.read_csv(\"financial_risk_assessment.csv\")"
   ]
  },
  {
   "cell_type": "code",
   "execution_count": 8,
   "id": "765d0a4b-3ff5-434f-9fc5-67189bd135b7",
   "metadata": {},
   "outputs": [
    {
     "data": {
      "text/html": [
       "<div>\n",
       "<style scoped>\n",
       "    .dataframe tbody tr th:only-of-type {\n",
       "        vertical-align: middle;\n",
       "    }\n",
       "\n",
       "    .dataframe tbody tr th {\n",
       "        vertical-align: top;\n",
       "    }\n",
       "\n",
       "    .dataframe thead th {\n",
       "        text-align: right;\n",
       "    }\n",
       "</style>\n",
       "<table border=\"1\" class=\"dataframe\">\n",
       "  <thead>\n",
       "    <tr style=\"text-align: right;\">\n",
       "      <th></th>\n",
       "      <th>Age</th>\n",
       "      <th>Gender</th>\n",
       "      <th>Education Level</th>\n",
       "      <th>Marital Status</th>\n",
       "      <th>Income</th>\n",
       "      <th>Credit Score</th>\n",
       "      <th>Loan Amount</th>\n",
       "      <th>Loan Purpose</th>\n",
       "      <th>Employment Status</th>\n",
       "      <th>Years at Current Job</th>\n",
       "      <th>Payment History</th>\n",
       "      <th>Debt-to-Income Ratio</th>\n",
       "      <th>Assets Value</th>\n",
       "      <th>Number of Dependents</th>\n",
       "      <th>City</th>\n",
       "      <th>State</th>\n",
       "      <th>Country</th>\n",
       "      <th>Previous Defaults</th>\n",
       "      <th>Marital Status Change</th>\n",
       "      <th>Risk Rating</th>\n",
       "    </tr>\n",
       "  </thead>\n",
       "  <tbody>\n",
       "    <tr>\n",
       "      <th>0</th>\n",
       "      <td>49</td>\n",
       "      <td>Male</td>\n",
       "      <td>PhD</td>\n",
       "      <td>Divorced</td>\n",
       "      <td>72799.0</td>\n",
       "      <td>688.0</td>\n",
       "      <td>45713.0</td>\n",
       "      <td>Business</td>\n",
       "      <td>Unemployed</td>\n",
       "      <td>19</td>\n",
       "      <td>Poor</td>\n",
       "      <td>0.154313</td>\n",
       "      <td>120228.0</td>\n",
       "      <td>0.0</td>\n",
       "      <td>Port Elizabeth</td>\n",
       "      <td>AS</td>\n",
       "      <td>Cyprus</td>\n",
       "      <td>2.0</td>\n",
       "      <td>2</td>\n",
       "      <td>Low</td>\n",
       "    </tr>\n",
       "    <tr>\n",
       "      <th>1</th>\n",
       "      <td>25</td>\n",
       "      <td>Non-binary</td>\n",
       "      <td>Bachelor's</td>\n",
       "      <td>Widowed</td>\n",
       "      <td>49427.0</td>\n",
       "      <td>766.0</td>\n",
       "      <td>36528.0</td>\n",
       "      <td>Personal</td>\n",
       "      <td>Unemployed</td>\n",
       "      <td>10</td>\n",
       "      <td>Fair</td>\n",
       "      <td>0.143242</td>\n",
       "      <td>287140.0</td>\n",
       "      <td>NaN</td>\n",
       "      <td>New Heather</td>\n",
       "      <td>IL</td>\n",
       "      <td>Namibia</td>\n",
       "      <td>3.0</td>\n",
       "      <td>1</td>\n",
       "      <td>Low</td>\n",
       "    </tr>\n",
       "    <tr>\n",
       "      <th>2</th>\n",
       "      <td>31</td>\n",
       "      <td>Non-binary</td>\n",
       "      <td>Master's</td>\n",
       "      <td>Widowed</td>\n",
       "      <td>45280.0</td>\n",
       "      <td>672.0</td>\n",
       "      <td>6553.0</td>\n",
       "      <td>Personal</td>\n",
       "      <td>Self-employed</td>\n",
       "      <td>1</td>\n",
       "      <td>Good</td>\n",
       "      <td>0.378890</td>\n",
       "      <td>NaN</td>\n",
       "      <td>NaN</td>\n",
       "      <td>West Lindaview</td>\n",
       "      <td>MD</td>\n",
       "      <td>Bouvet Island (Bouvetoya)</td>\n",
       "      <td>0.0</td>\n",
       "      <td>1</td>\n",
       "      <td>Low</td>\n",
       "    </tr>\n",
       "    <tr>\n",
       "      <th>3</th>\n",
       "      <td>18</td>\n",
       "      <td>Male</td>\n",
       "      <td>Bachelor's</td>\n",
       "      <td>Widowed</td>\n",
       "      <td>93678.0</td>\n",
       "      <td>NaN</td>\n",
       "      <td>NaN</td>\n",
       "      <td>Business</td>\n",
       "      <td>Unemployed</td>\n",
       "      <td>10</td>\n",
       "      <td>Poor</td>\n",
       "      <td>0.396636</td>\n",
       "      <td>246597.0</td>\n",
       "      <td>1.0</td>\n",
       "      <td>Melissahaven</td>\n",
       "      <td>MA</td>\n",
       "      <td>Honduras</td>\n",
       "      <td>1.0</td>\n",
       "      <td>1</td>\n",
       "      <td>Low</td>\n",
       "    </tr>\n",
       "    <tr>\n",
       "      <th>4</th>\n",
       "      <td>32</td>\n",
       "      <td>Non-binary</td>\n",
       "      <td>Bachelor's</td>\n",
       "      <td>Widowed</td>\n",
       "      <td>20205.0</td>\n",
       "      <td>710.0</td>\n",
       "      <td>NaN</td>\n",
       "      <td>Auto</td>\n",
       "      <td>Unemployed</td>\n",
       "      <td>4</td>\n",
       "      <td>Fair</td>\n",
       "      <td>0.335965</td>\n",
       "      <td>227599.0</td>\n",
       "      <td>0.0</td>\n",
       "      <td>North Beverly</td>\n",
       "      <td>DC</td>\n",
       "      <td>Pitcairn Islands</td>\n",
       "      <td>4.0</td>\n",
       "      <td>2</td>\n",
       "      <td>Low</td>\n",
       "    </tr>\n",
       "  </tbody>\n",
       "</table>\n",
       "</div>"
      ],
      "text/plain": [
       "   Age      Gender Education Level Marital Status   Income  Credit Score  \\\n",
       "0   49        Male             PhD       Divorced  72799.0         688.0   \n",
       "1   25  Non-binary      Bachelor's        Widowed  49427.0         766.0   \n",
       "2   31  Non-binary        Master's        Widowed  45280.0         672.0   \n",
       "3   18        Male      Bachelor's        Widowed  93678.0           NaN   \n",
       "4   32  Non-binary      Bachelor's        Widowed  20205.0         710.0   \n",
       "\n",
       "   Loan Amount Loan Purpose Employment Status  Years at Current Job  \\\n",
       "0      45713.0     Business        Unemployed                    19   \n",
       "1      36528.0     Personal        Unemployed                    10   \n",
       "2       6553.0     Personal     Self-employed                     1   \n",
       "3          NaN     Business        Unemployed                    10   \n",
       "4          NaN         Auto        Unemployed                     4   \n",
       "\n",
       "  Payment History  Debt-to-Income Ratio  Assets Value  Number of Dependents  \\\n",
       "0            Poor              0.154313      120228.0                   0.0   \n",
       "1            Fair              0.143242      287140.0                   NaN   \n",
       "2            Good              0.378890           NaN                   NaN   \n",
       "3            Poor              0.396636      246597.0                   1.0   \n",
       "4            Fair              0.335965      227599.0                   0.0   \n",
       "\n",
       "             City State                    Country  Previous Defaults  \\\n",
       "0  Port Elizabeth    AS                     Cyprus                2.0   \n",
       "1     New Heather    IL                    Namibia                3.0   \n",
       "2  West Lindaview    MD  Bouvet Island (Bouvetoya)                0.0   \n",
       "3    Melissahaven    MA                   Honduras                1.0   \n",
       "4   North Beverly    DC           Pitcairn Islands                4.0   \n",
       "\n",
       "   Marital Status Change Risk Rating  \n",
       "0                      2         Low  \n",
       "1                      1         Low  \n",
       "2                      1         Low  \n",
       "3                      1         Low  \n",
       "4                      2         Low  "
      ]
     },
     "execution_count": 8,
     "metadata": {},
     "output_type": "execute_result"
    }
   ],
   "source": [
    "df.head()\n"
   ]
  },
  {
   "cell_type": "code",
   "execution_count": 10,
   "id": "1cd66db3-d94d-4c2d-8f8e-6968a26aa2d9",
   "metadata": {},
   "outputs": [
    {
     "data": {
      "text/html": [
       "<div>\n",
       "<style scoped>\n",
       "    .dataframe tbody tr th:only-of-type {\n",
       "        vertical-align: middle;\n",
       "    }\n",
       "\n",
       "    .dataframe tbody tr th {\n",
       "        vertical-align: top;\n",
       "    }\n",
       "\n",
       "    .dataframe thead th {\n",
       "        text-align: right;\n",
       "    }\n",
       "</style>\n",
       "<table border=\"1\" class=\"dataframe\">\n",
       "  <thead>\n",
       "    <tr style=\"text-align: right;\">\n",
       "      <th></th>\n",
       "      <th>Age</th>\n",
       "      <th>Gender</th>\n",
       "      <th>Education Level</th>\n",
       "      <th>Marital Status</th>\n",
       "      <th>Income</th>\n",
       "      <th>Credit Score</th>\n",
       "      <th>Loan Amount</th>\n",
       "      <th>Loan Purpose</th>\n",
       "      <th>Employment Status</th>\n",
       "      <th>Years at Current Job</th>\n",
       "      <th>Payment History</th>\n",
       "      <th>Debt-to-Income Ratio</th>\n",
       "      <th>Assets Value</th>\n",
       "      <th>Number of Dependents</th>\n",
       "      <th>City</th>\n",
       "      <th>State</th>\n",
       "      <th>Country</th>\n",
       "      <th>Previous Defaults</th>\n",
       "      <th>Marital Status Change</th>\n",
       "      <th>Risk Rating</th>\n",
       "    </tr>\n",
       "  </thead>\n",
       "  <tbody>\n",
       "    <tr>\n",
       "      <th>10495</th>\n",
       "      <td>40</td>\n",
       "      <td>Male</td>\n",
       "      <td>High School</td>\n",
       "      <td>Married</td>\n",
       "      <td>43655.0</td>\n",
       "      <td>614.0</td>\n",
       "      <td>34565.0</td>\n",
       "      <td>Home</td>\n",
       "      <td>Unemployed</td>\n",
       "      <td>11</td>\n",
       "      <td>Poor</td>\n",
       "      <td>0.399901</td>\n",
       "      <td>32179.0</td>\n",
       "      <td>4.0</td>\n",
       "      <td>Curtismouth</td>\n",
       "      <td>IA</td>\n",
       "      <td>Uzbekistan</td>\n",
       "      <td>1.0</td>\n",
       "      <td>1</td>\n",
       "      <td>Low</td>\n",
       "    </tr>\n",
       "    <tr>\n",
       "      <th>10496</th>\n",
       "      <td>23</td>\n",
       "      <td>Non-binary</td>\n",
       "      <td>Bachelor's</td>\n",
       "      <td>Widowed</td>\n",
       "      <td>48088.0</td>\n",
       "      <td>609.0</td>\n",
       "      <td>26187.0</td>\n",
       "      <td>Home</td>\n",
       "      <td>Self-employed</td>\n",
       "      <td>2</td>\n",
       "      <td>Fair</td>\n",
       "      <td>0.317633</td>\n",
       "      <td>NaN</td>\n",
       "      <td>4.0</td>\n",
       "      <td>Susanstad</td>\n",
       "      <td>TN</td>\n",
       "      <td>Djibouti</td>\n",
       "      <td>2.0</td>\n",
       "      <td>0</td>\n",
       "      <td>Low</td>\n",
       "    </tr>\n",
       "    <tr>\n",
       "      <th>10497</th>\n",
       "      <td>29</td>\n",
       "      <td>Non-binary</td>\n",
       "      <td>PhD</td>\n",
       "      <td>Married</td>\n",
       "      <td>46250.0</td>\n",
       "      <td>642.0</td>\n",
       "      <td>44369.0</td>\n",
       "      <td>Home</td>\n",
       "      <td>Unemployed</td>\n",
       "      <td>19</td>\n",
       "      <td>Excellent</td>\n",
       "      <td>0.593999</td>\n",
       "      <td>196930.0</td>\n",
       "      <td>4.0</td>\n",
       "      <td>South Morganchester</td>\n",
       "      <td>LA</td>\n",
       "      <td>Palau</td>\n",
       "      <td>2.0</td>\n",
       "      <td>1</td>\n",
       "      <td>High</td>\n",
       "    </tr>\n",
       "    <tr>\n",
       "      <th>10498</th>\n",
       "      <td>53</td>\n",
       "      <td>Non-binary</td>\n",
       "      <td>PhD</td>\n",
       "      <td>Divorced</td>\n",
       "      <td>40180.0</td>\n",
       "      <td>638.0</td>\n",
       "      <td>32752.0</td>\n",
       "      <td>Home</td>\n",
       "      <td>Self-employed</td>\n",
       "      <td>12</td>\n",
       "      <td>Excellent</td>\n",
       "      <td>0.478035</td>\n",
       "      <td>276060.0</td>\n",
       "      <td>NaN</td>\n",
       "      <td>Port Wayne</td>\n",
       "      <td>AK</td>\n",
       "      <td>Rwanda</td>\n",
       "      <td>0.0</td>\n",
       "      <td>2</td>\n",
       "      <td>High</td>\n",
       "    </tr>\n",
       "    <tr>\n",
       "      <th>10499</th>\n",
       "      <td>24</td>\n",
       "      <td>Non-binary</td>\n",
       "      <td>Bachelor's</td>\n",
       "      <td>Widowed</td>\n",
       "      <td>NaN</td>\n",
       "      <td>765.0</td>\n",
       "      <td>NaN</td>\n",
       "      <td>Personal</td>\n",
       "      <td>Self-employed</td>\n",
       "      <td>18</td>\n",
       "      <td>Excellent</td>\n",
       "      <td>0.116083</td>\n",
       "      <td>71699.0</td>\n",
       "      <td>3.0</td>\n",
       "      <td>South Stacy</td>\n",
       "      <td>WA</td>\n",
       "      <td>Saint Pierre and Miquelon</td>\n",
       "      <td>3.0</td>\n",
       "      <td>2</td>\n",
       "      <td>Low</td>\n",
       "    </tr>\n",
       "  </tbody>\n",
       "</table>\n",
       "</div>"
      ],
      "text/plain": [
       "       Age      Gender Education Level Marital Status   Income  Credit Score  \\\n",
       "10495   40        Male     High School        Married  43655.0         614.0   \n",
       "10496   23  Non-binary      Bachelor's        Widowed  48088.0         609.0   \n",
       "10497   29  Non-binary             PhD        Married  46250.0         642.0   \n",
       "10498   53  Non-binary             PhD       Divorced  40180.0         638.0   \n",
       "10499   24  Non-binary      Bachelor's        Widowed      NaN         765.0   \n",
       "\n",
       "       Loan Amount Loan Purpose Employment Status  Years at Current Job  \\\n",
       "10495      34565.0         Home        Unemployed                    11   \n",
       "10496      26187.0         Home     Self-employed                     2   \n",
       "10497      44369.0         Home        Unemployed                    19   \n",
       "10498      32752.0         Home     Self-employed                    12   \n",
       "10499          NaN     Personal     Self-employed                    18   \n",
       "\n",
       "      Payment History  Debt-to-Income Ratio  Assets Value  \\\n",
       "10495            Poor              0.399901       32179.0   \n",
       "10496            Fair              0.317633           NaN   \n",
       "10497       Excellent              0.593999      196930.0   \n",
       "10498       Excellent              0.478035      276060.0   \n",
       "10499       Excellent              0.116083       71699.0   \n",
       "\n",
       "       Number of Dependents                 City State  \\\n",
       "10495                   4.0          Curtismouth    IA   \n",
       "10496                   4.0            Susanstad    TN   \n",
       "10497                   4.0  South Morganchester    LA   \n",
       "10498                   NaN           Port Wayne    AK   \n",
       "10499                   3.0          South Stacy    WA   \n",
       "\n",
       "                         Country  Previous Defaults  Marital Status Change  \\\n",
       "10495                 Uzbekistan                1.0                      1   \n",
       "10496                   Djibouti                2.0                      0   \n",
       "10497                      Palau                2.0                      1   \n",
       "10498                     Rwanda                0.0                      2   \n",
       "10499  Saint Pierre and Miquelon                3.0                      2   \n",
       "\n",
       "      Risk Rating  \n",
       "10495         Low  \n",
       "10496         Low  \n",
       "10497        High  \n",
       "10498        High  \n",
       "10499         Low  "
      ]
     },
     "execution_count": 10,
     "metadata": {},
     "output_type": "execute_result"
    }
   ],
   "source": [
    "df.tail()"
   ]
  },
  {
   "cell_type": "code",
   "execution_count": 12,
   "id": "448d617f-05a1-4988-abdd-a8c3a63ffc83",
   "metadata": {},
   "outputs": [
    {
     "data": {
      "text/plain": [
       "(10500, 20)"
      ]
     },
     "execution_count": 12,
     "metadata": {},
     "output_type": "execute_result"
    }
   ],
   "source": [
    "df.shape"
   ]
  },
  {
   "cell_type": "markdown",
   "id": "9025e251-875f-4b7f-b2c5-32f52e4ae966",
   "metadata": {},
   "source": [
    "## Sanity Check"
   ]
  },
  {
   "cell_type": "code",
   "execution_count": 15,
   "id": "deb4f6b1-2e5a-49bf-943d-af0fb1f0a20d",
   "metadata": {},
   "outputs": [
    {
     "data": {
      "text/plain": [
       "0"
      ]
     },
     "execution_count": 15,
     "metadata": {},
     "output_type": "execute_result"
    }
   ],
   "source": [
    "## Check duplicates\n",
    "df.duplicated().sum()"
   ]
  },
  {
   "cell_type": "code",
   "execution_count": 17,
   "id": "b55e628d-f044-45ce-bde0-300c2579633f",
   "metadata": {},
   "outputs": [
    {
     "data": {
      "text/plain": [
       "Age                         0\n",
       "Gender                      0\n",
       "Education Level             0\n",
       "Marital Status              0\n",
       "Income                   1573\n",
       "Credit Score             1555\n",
       "Loan Amount              1600\n",
       "Loan Purpose                0\n",
       "Employment Status           0\n",
       "Years at Current Job        0\n",
       "Payment History             0\n",
       "Debt-to-Income Ratio        0\n",
       "Assets Value             1609\n",
       "Number of Dependents     1571\n",
       "City                        0\n",
       "State                       0\n",
       "Country                     0\n",
       "Previous Defaults        1533\n",
       "Marital Status Change       0\n",
       "Risk Rating                 0\n",
       "dtype: int64"
      ]
     },
     "execution_count": 17,
     "metadata": {},
     "output_type": "execute_result"
    }
   ],
   "source": [
    "# Check null count\n",
    "df.isnull().sum()"
   ]
  },
  {
   "cell_type": "code",
   "execution_count": 19,
   "id": "7e5aef66-4af2-440a-b12a-bb71f7e77ea2",
   "metadata": {},
   "outputs": [
    {
     "name": "stdout",
     "output_type": "stream",
     "text": [
      "Column\t\t\t\t\t Null Values%\n",
      "Age\t\t\t\t\t 0.0\n",
      "Gender\t\t\t\t\t 0.0\n",
      "Education Level\t\t\t\t\t 0.0\n",
      "Marital Status\t\t\t\t\t 0.0\n",
      "Income\t\t\t\t\t 14.980952380952381\n",
      "Credit Score\t\t\t\t\t 14.80952380952381\n",
      "Loan Amount\t\t\t\t\t 15.238095238095237\n",
      "Loan Purpose\t\t\t\t\t 0.0\n",
      "Employment Status\t\t\t\t\t 0.0\n",
      "Years at Current Job\t\t\t\t\t 0.0\n",
      "Payment History\t\t\t\t\t 0.0\n",
      "Debt-to-Income Ratio\t\t\t\t\t 0.0\n",
      "Assets Value\t\t\t\t\t 15.323809523809524\n",
      "Number of Dependents\t\t\t\t\t 14.961904761904762\n",
      "City\t\t\t\t\t 0.0\n",
      "State\t\t\t\t\t 0.0\n",
      "Country\t\t\t\t\t 0.0\n",
      "Previous Defaults\t\t\t\t\t 14.6\n",
      "Marital Status Change\t\t\t\t\t 0.0\n",
      "Risk Rating\t\t\t\t\t 0.0\n"
     ]
    }
   ],
   "source": [
    "# Check null count as percentage\n",
    "col_num=0 \n",
    "TotalObjects =df.shape[0] \n",
    "print (\"Column\\t\\t\\t\\t\\t Null Values%\") \n",
    "for x in df: \n",
    " nullCount =df[x].isnull().sum(); \n",
    " nullPercent = nullCount*100 / (TotalObjects) \n",
    " print(str(x)+\"\\t\\t\\t\\t\\t \"+str(nullPercent)) \n"
   ]
  },
  {
   "cell_type": "code",
   "execution_count": 21,
   "id": "62905259-5e75-4bef-850e-a3133d5a657d",
   "metadata": {},
   "outputs": [
    {
     "name": "stdout",
     "output_type": "stream",
     "text": [
      "<class 'pandas.core.frame.DataFrame'>\n",
      "RangeIndex: 10500 entries, 0 to 10499\n",
      "Data columns (total 20 columns):\n",
      " #   Column                 Non-Null Count  Dtype  \n",
      "---  ------                 --------------  -----  \n",
      " 0   Age                    10500 non-null  int64  \n",
      " 1   Gender                 10500 non-null  object \n",
      " 2   Education Level        10500 non-null  object \n",
      " 3   Marital Status         10500 non-null  object \n",
      " 4   Income                 8927 non-null   float64\n",
      " 5   Credit Score           8945 non-null   float64\n",
      " 6   Loan Amount            8900 non-null   float64\n",
      " 7   Loan Purpose           10500 non-null  object \n",
      " 8   Employment Status      10500 non-null  object \n",
      " 9   Years at Current Job   10500 non-null  int64  \n",
      " 10  Payment History        10500 non-null  object \n",
      " 11  Debt-to-Income Ratio   10500 non-null  float64\n",
      " 12  Assets Value           8891 non-null   float64\n",
      " 13  Number of Dependents   8929 non-null   float64\n",
      " 14  City                   10500 non-null  object \n",
      " 15  State                  10500 non-null  object \n",
      " 16  Country                10500 non-null  object \n",
      " 17  Previous Defaults      8967 non-null   float64\n",
      " 18  Marital Status Change  10500 non-null  int64  \n",
      " 19  Risk Rating            10500 non-null  object \n",
      "dtypes: float64(7), int64(3), object(10)\n",
      "memory usage: 1.6+ MB\n"
     ]
    }
   ],
   "source": [
    "df.info()"
   ]
  },
  {
   "cell_type": "code",
   "execution_count": 23,
   "id": "84d88344-945c-430b-a89f-6064736be567",
   "metadata": {},
   "outputs": [
    {
     "name": "stdout",
     "output_type": "stream",
     "text": [
      "Gender\n",
      "Non-binary    3565\n",
      "Female        3499\n",
      "Male          3436\n",
      "Name: count, dtype: int64\n",
      "******************************\n",
      "Education Level\n",
      "Bachelor's     2677\n",
      "High School    2627\n",
      "PhD            2624\n",
      "Master's       2572\n",
      "Name: count, dtype: int64\n",
      "******************************\n",
      "Marital Status\n",
      "Widowed     2713\n",
      "Divorced    2649\n",
      "Single      2597\n",
      "Married     2541\n",
      "Name: count, dtype: int64\n",
      "******************************\n",
      "Loan Purpose\n",
      "Personal    2669\n",
      "Home        2628\n",
      "Auto        2603\n",
      "Business    2600\n",
      "Name: count, dtype: int64\n",
      "******************************\n",
      "Employment Status\n",
      "Self-employed    3530\n",
      "Unemployed       3489\n",
      "Employed         3481\n",
      "Name: count, dtype: int64\n",
      "******************************\n",
      "Payment History\n",
      "Excellent    2676\n",
      "Good         2664\n",
      "Poor         2602\n",
      "Fair         2558\n",
      "Name: count, dtype: int64\n",
      "******************************\n",
      "City\n",
      "Lake Michael            15\n",
      "Port Michael            13\n",
      "West Michael            12\n",
      "East Michael            11\n",
      "Port David              10\n",
      "                        ..\n",
      "New Paula                1\n",
      "Sherrymouth              1\n",
      "Lopezview                1\n",
      "West Kristinaborough     1\n",
      "South Stacy              1\n",
      "Name: count, Length: 8027, dtype: int64\n",
      "******************************\n",
      "State\n",
      "KY    214\n",
      "PW    209\n",
      "MP    203\n",
      "MO    197\n",
      "CO    197\n",
      "TX    196\n",
      "NC    193\n",
      "TN    193\n",
      "FL    192\n",
      "IL    192\n",
      "WY    190\n",
      "NJ    190\n",
      "SC    190\n",
      "DE    190\n",
      "NM    189\n",
      "AL    187\n",
      "OH    187\n",
      "MH    186\n",
      "RI    186\n",
      "OR    184\n",
      "WV    184\n",
      "MD    184\n",
      "AK    183\n",
      "AS    181\n",
      "NH    181\n",
      "MS    181\n",
      "NE    180\n",
      "VI    180\n",
      "VT    180\n",
      "HI    180\n",
      "VA    180\n",
      "MT    179\n",
      "AR    179\n",
      "MA    178\n",
      "MI    177\n",
      "DC    177\n",
      "CT    176\n",
      "NV    173\n",
      "KS    171\n",
      "GU    171\n",
      "MN    170\n",
      "IA    170\n",
      "CA    169\n",
      "ME    168\n",
      "ID    165\n",
      "WA    165\n",
      "UT    164\n",
      "ND    163\n",
      "GA    162\n",
      "OK    162\n",
      "AZ    161\n",
      "SD    161\n",
      "FM    158\n",
      "NY    158\n",
      "LA    157\n",
      "IN    155\n",
      "PR    155\n",
      "PA    151\n",
      "WI    146\n",
      "Name: count, dtype: int64\n",
      "******************************\n",
      "Country\n",
      "Korea               83\n",
      "Congo               79\n",
      "French Guiana       69\n",
      "Namibia             63\n",
      "Cote d'Ivoire       58\n",
      "                    ..\n",
      "Solomon Islands     29\n",
      "Turkmenistan        29\n",
      "French Polynesia    29\n",
      "Guyana              28\n",
      "Morocco             28\n",
      "Name: count, Length: 243, dtype: int64\n",
      "******************************\n",
      "Risk Rating\n",
      "Low     9000\n",
      "High    1500\n",
      "Name: count, dtype: int64\n",
      "******************************\n"
     ]
    }
   ],
   "source": [
    "#identifying garbage values\n",
    "for i in df.select_dtypes(include=\"object\").columns:\n",
    "    print(df[i].value_counts())\n",
    "    print(\"***\"*10)"
   ]
  },
  {
   "cell_type": "code",
   "execution_count": 25,
   "id": "a9cb05f9-6b79-4e4b-989f-0a9e03f1ca87",
   "metadata": {},
   "outputs": [
    {
     "data": {
      "image/png": "[encoded data removed]",
      "text/plain": [
       "<Figure size 640x480 with 1 Axes>"
      ]
     },
     "metadata": {},
     "output_type": "display_data"
    },
    {
     "data": {
      "image/png": "[encoded data removed]",
      "text/plain": [
       "<Figure size 640x480 with 1 Axes>"
      ]
     },
     "metadata": {},
     "output_type": "display_data"
    },
    {
     "data": {
      "image/png": "[encoded data removed]",
      "text/plain": [
       "<Figure size 640x480 with 1 Axes>"
      ]
     },
     "metadata": {},
     "output_type": "display_data"
    },
    {
     "data": {
      "image/png": "[encoded data removed]",
      "text/plain": [
       "<Figure size 640x480 with 1 Axes>"
      ]
     },
     "metadata": {},
     "output_type": "display_data"
    },
    {
     "data": {
      "image/png": "[encoded data removed]",
      "text/plain": [
       "<Figure size 640x480 with 1 Axes>"
      ]
     },
     "metadata": {},
     "output_type": "display_data"
    },
    {
     "data": {
      "image/png": "[encoded data removed]",
      "text/plain": [
       "<Figure size 640x480 with 1 Axes>"
      ]
     },
     "metadata": {},
     "output_type": "display_data"
    },
    {
     "data": {
      "image/png": "[encoded data removed]",
      "text/plain": [
       "<Figure size 640x480 with 1 Axes>"
      ]
     },
     "metadata": {},
     "output_type": "display_data"
    },
    {
     "data": {
      "image/png": "[encoded data removed]",
      "text/plain": [
       "<Figure size 640x480 with 1 Axes>"
      ]
     },
     "metadata": {},
     "output_type": "display_data"
    },
    {
     "data": {
      "image/png": "[encoded data removed]",
      "text/plain": [
       "<Figure size 640x480 with 1 Axes>"
      ]
     },
     "metadata": {},
     "output_type": "display_data"
    },
    {
     "data": {
      "image/png": "[encoded data removed]",
      "text/plain": [
       "<Figure size 640x480 with 1 Axes>"
      ]
     },
     "metadata": {},
     "output_type": "display_data"
    }
   ],
   "source": [
    "#Boxplots for check outliers\n",
    "import warnings\n",
    "warnings.filterwarnings(\"ignore\")\n",
    "for i in df.select_dtypes(include=\"number\").columns:\n",
    "    sns.boxplot(data=df,x=i)\n",
    "    plt.show()"
   ]
  },
  {
   "cell_type": "markdown",
   "id": "cd8c7599-da06-4019-a93c-3d7d5847cb42",
   "metadata": {},
   "source": [
    "## Exploratory Data Analysis"
   ]
  },
  {
   "cell_type": "code",
   "execution_count": 28,
   "id": "6ef8b625-b64e-44a6-a156-8b556762a9ab",
   "metadata": {},
   "outputs": [
    {
     "data": {
      "image/png": "[encoded data removed]",
      "text/plain": [
       "<Figure size 640x480 with 1 Axes>"
      ]
     },
     "metadata": {},
     "output_type": "display_data"
    },
    {
     "data": {
      "image/png": "[encoded data removed]",
      "text/plain": [
       "<Figure size 640x480 with 1 Axes>"
      ]
     },
     "metadata": {},
     "output_type": "display_data"
    },
    {
     "data": {
      "image/png": "[encoded data removed]",
      "text/plain": [
       "<Figure size 640x480 with 1 Axes>"
      ]
     },
     "metadata": {},
     "output_type": "display_data"
    },
    {
     "data": {
      "image/png": "[encoded data removed]",
      "text/plain": [
       "<Figure size 640x480 with 1 Axes>"
      ]
     },
     "metadata": {},
     "output_type": "display_data"
    },
    {
     "data": {
      "image/png": "[encoded data removed]",
      "text/plain": [
       "<Figure size 640x480 with 1 Axes>"
      ]
     },
     "metadata": {},
     "output_type": "display_data"
    },
    {
     "data": {
      "image/png": "[encoded data removed]",
      "text/plain": [
       "<Figure size 640x480 with 1 Axes>"
      ]
     },
     "metadata": {},
     "output_type": "display_data"
    },
    {
     "data": {
      "image/png": "[encoded data removed]",
      "text/plain": [
       "<Figure size 640x480 with 1 Axes>"
      ]
     },
     "metadata": {},
     "output_type": "display_data"
    },
    {
     "data": {
      "image/png": "[encoded data removed]",
      "text/plain": [
       "<Figure size 640x480 with 1 Axes>"
      ]
     },
     "metadata": {},
     "output_type": "display_data"
    },
    {
     "data": {
      "image/png": "[encoded data removed]",
      "text/plain": [
       "<Figure size 640x480 with 1 Axes>"
      ]
     },
     "metadata": {},
     "output_type": "display_data"
    },
    {
     "data": {
      "image/png": "[encoded data removed]",
      "text/plain": [
       "<Figure size 640x480 with 1 Axes>"
      ]
     },
     "metadata": {},
     "output_type": "display_data"
    }
   ],
   "source": [
    "#histogram to understand the distribution\n",
    "import warnings\n",
    "warnings.filterwarnings(\"ignore\")\n",
    "for i in df.select_dtypes(include='number').columns:\n",
    "    sns.histplot(data=df,x=i)\n",
    "    plt.show()\n"
   ]
  },
  {
   "cell_type": "code",
   "execution_count": 29,
   "id": "de7829f5-0566-42b1-8360-d83f06476b91",
   "metadata": {},
   "outputs": [
    {
     "data": {
      "text/plain": [
       "Index(['Age', 'Income', 'Credit Score', 'Loan Amount', 'Years at Current Job',\n",
       "       'Debt-to-Income Ratio', 'Assets Value', 'Number of Dependents',\n",
       "       'Previous Defaults', 'Marital Status Change'],\n",
       "      dtype='object')"
      ]
     },
     "execution_count": 29,
     "metadata": {},
     "output_type": "execute_result"
    }
   ],
   "source": [
    "\n",
    "df.select_dtypes(include=\"number\").columns"
   ]
  },
  {
   "cell_type": "code",
   "execution_count": 32,
   "id": "e3b617da-39e7-4ac4-a383-5ccf38d72ef7",
   "metadata": {},
   "outputs": [
    {
     "data": {
      "image/png": "[encoded data removed]",
      "text/plain": [
       "<Figure size 640x480 with 1 Axes>"
      ]
     },
     "metadata": {},
     "output_type": "display_data"
    },
    {
     "data": {
      "image/png": "[encoded data removed]",
      "text/plain": [
       "<Figure size 640x480 with 1 Axes>"
      ]
     },
     "metadata": {},
     "output_type": "display_data"
    },
    {
     "data": {
      "image/png": "[encoded data removed]",
      "text/plain": [
       "<Figure size 640x480 with 1 Axes>"
      ]
     },
     "metadata": {},
     "output_type": "display_data"
    },
    {
     "data": {
      "image/png": "[encoded data removed]",
      "text/plain": [
       "<Figure size 640x480 with 1 Axes>"
      ]
     },
     "metadata": {},
     "output_type": "display_data"
    },
    {
     "data": {
      "image/png": "[encoded data removed]",
      "text/plain": [
       "<Figure size 640x480 with 1 Axes>"
      ]
     },
     "metadata": {},
     "output_type": "display_data"
    },
    {
     "data": {
      "image/png": "[encoded data removed]",
      "text/plain": [
       "<Figure size 640x480 with 1 Axes>"
      ]
     },
     "metadata": {},
     "output_type": "display_data"
    },
    {
     "data": {
      "image/png": "[encoded data removed]",
      "text/plain": [
       "<Figure size 640x480 with 1 Axes>"
      ]
     },
     "metadata": {},
     "output_type": "display_data"
    },
    {
     "data": {
      "image/png": "[encoded data removed]",
      "text/plain": [
       "<Figure size 640x480 with 1 Axes>"
      ]
     },
     "metadata": {},
     "output_type": "display_data"
    },
    {
     "data": {
      "image/png": "[encoded data removed]",
      "text/plain": [
       "<Figure size 640x480 with 1 Axes>"
      ]
     },
     "metadata": {},
     "output_type": "display_data"
    },
    {
     "data": {
      "image/png": "[encoded data removed]",
      "text/plain": [
       "<Figure size 640x480 with 1 Axes>"
      ]
     },
     "metadata": {},
     "output_type": "display_data"
    }
   ],
   "source": [
    "### Scatter plot\n",
    "for i in ['Age', 'Income', 'Credit Score', 'Loan Amount', 'Years at Current Job',\n",
    "       'Debt-to-Income Ratio', 'Assets Value', 'Number of Dependents',\n",
    "       'Previous Defaults', 'Marital Status Change']:\n",
    "    sns.scatterplot(data=df,x=i,y='Risk Rating')\n",
    "    plt.show()"
   ]
  },
  {
   "cell_type": "code",
   "execution_count": 33,
   "id": "07d38572-038f-49c3-bc96-a64e67492d26",
   "metadata": {},
   "outputs": [
    {
     "data": {
      "text/html": [
       "<div>\n",
       "<style scoped>\n",
       "    .dataframe tbody tr th:only-of-type {\n",
       "        vertical-align: middle;\n",
       "    }\n",
       "\n",
       "    .dataframe tbody tr th {\n",
       "        vertical-align: top;\n",
       "    }\n",
       "\n",
       "    .dataframe thead th {\n",
       "        text-align: right;\n",
       "    }\n",
       "</style>\n",
       "<table border=\"1\" class=\"dataframe\">\n",
       "  <thead>\n",
       "    <tr style=\"text-align: right;\">\n",
       "      <th></th>\n",
       "      <th>count</th>\n",
       "      <th>mean</th>\n",
       "      <th>std</th>\n",
       "      <th>min</th>\n",
       "      <th>25%</th>\n",
       "      <th>50%</th>\n",
       "      <th>75%</th>\n",
       "      <th>max</th>\n",
       "    </tr>\n",
       "  </thead>\n",
       "  <tbody>\n",
       "    <tr>\n",
       "      <th>Age</th>\n",
       "      <td>10500.0</td>\n",
       "      <td>43.563619</td>\n",
       "      <td>14.895120</td>\n",
       "      <td>18.000000</td>\n",
       "      <td>31.000000</td>\n",
       "      <td>43.000000</td>\n",
       "      <td>56.00000</td>\n",
       "      <td>69.00000</td>\n",
       "    </tr>\n",
       "    <tr>\n",
       "      <th>Income</th>\n",
       "      <td>8927.0</td>\n",
       "      <td>69535.935141</td>\n",
       "      <td>29091.181758</td>\n",
       "      <td>20005.000000</td>\n",
       "      <td>44110.500000</td>\n",
       "      <td>68990.000000</td>\n",
       "      <td>95206.00000</td>\n",
       "      <td>119997.00000</td>\n",
       "    </tr>\n",
       "    <tr>\n",
       "      <th>Credit Score</th>\n",
       "      <td>8945.0</td>\n",
       "      <td>699.093348</td>\n",
       "      <td>57.313108</td>\n",
       "      <td>600.000000</td>\n",
       "      <td>650.000000</td>\n",
       "      <td>700.000000</td>\n",
       "      <td>748.00000</td>\n",
       "      <td>799.00000</td>\n",
       "    </tr>\n",
       "    <tr>\n",
       "      <th>Loan Amount</th>\n",
       "      <td>8900.0</td>\n",
       "      <td>27449.669888</td>\n",
       "      <td>12978.148718</td>\n",
       "      <td>5001.000000</td>\n",
       "      <td>16309.500000</td>\n",
       "      <td>27499.500000</td>\n",
       "      <td>38692.25000</td>\n",
       "      <td>49995.00000</td>\n",
       "    </tr>\n",
       "    <tr>\n",
       "      <th>Years at Current Job</th>\n",
       "      <td>10500.0</td>\n",
       "      <td>9.449810</td>\n",
       "      <td>5.774541</td>\n",
       "      <td>0.000000</td>\n",
       "      <td>4.000000</td>\n",
       "      <td>9.000000</td>\n",
       "      <td>14.00000</td>\n",
       "      <td>19.00000</td>\n",
       "    </tr>\n",
       "    <tr>\n",
       "      <th>Debt-to-Income Ratio</th>\n",
       "      <td>10500.0</td>\n",
       "      <td>0.350195</td>\n",
       "      <td>0.143439</td>\n",
       "      <td>0.100004</td>\n",
       "      <td>0.228146</td>\n",
       "      <td>0.350571</td>\n",
       "      <td>0.47549</td>\n",
       "      <td>0.59997</td>\n",
       "    </tr>\n",
       "    <tr>\n",
       "      <th>Assets Value</th>\n",
       "      <td>8891.0</td>\n",
       "      <td>159886.288719</td>\n",
       "      <td>80414.567278</td>\n",
       "      <td>20104.000000</td>\n",
       "      <td>90818.500000</td>\n",
       "      <td>159757.000000</td>\n",
       "      <td>229182.50000</td>\n",
       "      <td>299999.00000</td>\n",
       "    </tr>\n",
       "    <tr>\n",
       "      <th>Number of Dependents</th>\n",
       "      <td>8929.0</td>\n",
       "      <td>2.017471</td>\n",
       "      <td>1.411489</td>\n",
       "      <td>0.000000</td>\n",
       "      <td>1.000000</td>\n",
       "      <td>2.000000</td>\n",
       "      <td>3.00000</td>\n",
       "      <td>4.00000</td>\n",
       "    </tr>\n",
       "    <tr>\n",
       "      <th>Previous Defaults</th>\n",
       "      <td>8967.0</td>\n",
       "      <td>1.986618</td>\n",
       "      <td>1.422251</td>\n",
       "      <td>0.000000</td>\n",
       "      <td>1.000000</td>\n",
       "      <td>2.000000</td>\n",
       "      <td>3.00000</td>\n",
       "      <td>4.00000</td>\n",
       "    </tr>\n",
       "    <tr>\n",
       "      <th>Marital Status Change</th>\n",
       "      <td>10500.0</td>\n",
       "      <td>1.005048</td>\n",
       "      <td>0.813306</td>\n",
       "      <td>0.000000</td>\n",
       "      <td>0.000000</td>\n",
       "      <td>1.000000</td>\n",
       "      <td>2.00000</td>\n",
       "      <td>2.00000</td>\n",
       "    </tr>\n",
       "  </tbody>\n",
       "</table>\n",
       "</div>"
      ],
      "text/plain": [
       "                         count           mean           std           min  \\\n",
       "Age                    10500.0      43.563619     14.895120     18.000000   \n",
       "Income                  8927.0   69535.935141  29091.181758  20005.000000   \n",
       "Credit Score            8945.0     699.093348     57.313108    600.000000   \n",
       "Loan Amount             8900.0   27449.669888  12978.148718   5001.000000   \n",
       "Years at Current Job   10500.0       9.449810      5.774541      0.000000   \n",
       "Debt-to-Income Ratio   10500.0       0.350195      0.143439      0.100004   \n",
       "Assets Value            8891.0  159886.288719  80414.567278  20104.000000   \n",
       "Number of Dependents    8929.0       2.017471      1.411489      0.000000   \n",
       "Previous Defaults       8967.0       1.986618      1.422251      0.000000   \n",
       "Marital Status Change  10500.0       1.005048      0.813306      0.000000   \n",
       "\n",
       "                                25%            50%           75%           max  \n",
       "Age                       31.000000      43.000000      56.00000      69.00000  \n",
       "Income                 44110.500000   68990.000000   95206.00000  119997.00000  \n",
       "Credit Score             650.000000     700.000000     748.00000     799.00000  \n",
       "Loan Amount            16309.500000   27499.500000   38692.25000   49995.00000  \n",
       "Years at Current Job       4.000000       9.000000      14.00000      19.00000  \n",
       "Debt-to-Income Ratio       0.228146       0.350571       0.47549       0.59997  \n",
       "Assets Value           90818.500000  159757.000000  229182.50000  299999.00000  \n",
       "Number of Dependents       1.000000       2.000000       3.00000       4.00000  \n",
       "Previous Defaults          1.000000       2.000000       3.00000       4.00000  \n",
       "Marital Status Change      0.000000       1.000000       2.00000       2.00000  "
      ]
     },
     "execution_count": 33,
     "metadata": {},
     "output_type": "execute_result"
    }
   ],
   "source": [
    "#descriptive statistics\n",
    "df.describe().T"
   ]
  },
  {
   "cell_type": "markdown",
   "id": "8f8c46c9-a142-4bc7-9f7d-c4f18da4bdaf",
   "metadata": {},
   "source": [
    "## Data Preprocessing "
   ]
  },
  {
   "cell_type": "code",
   "execution_count": 37,
   "id": "9d70ebcf-968e-46c1-8096-3f923e508edd",
   "metadata": {},
   "outputs": [],
   "source": [
    "#Missing value treatements using mean for continous value columns\n",
    "for i in [\"Income\",\"Credit Score\",\"Loan Amount\",\"Assets Value\"]:\n",
    "    df[i].fillna(df[i].mean(),inplace=True)\n",
    "\n"
   ]
  },
  {
   "cell_type": "code",
   "execution_count": 39,
   "id": "c3127d4f-5e86-4587-ab81-3ad3abbb186d",
   "metadata": {},
   "outputs": [],
   "source": [
    "#Missing value treatements using mode for descrete value columns\n",
    "\n",
    "from sklearn.impute import SimpleImputer\n",
    "\n",
    "# Create an imputer object with most_frequent strategy\n",
    "imputer = SimpleImputer(strategy='most_frequent')\n",
    "\n",
    "# Fit and transform the data\n",
    "df['Number of Dependents'] = imputer.fit_transform(df[['Number of Dependents']])\n",
    "df['Previous Defaults'] = imputer.fit_transform(df[['Previous Defaults']])\n"
   ]
  },
  {
   "cell_type": "code",
   "execution_count": 41,
   "id": "84737ecf-4168-4bab-994a-e489b7c20ff4",
   "metadata": {},
   "outputs": [
    {
     "data": {
      "text/plain": [
       "Age                      0\n",
       "Gender                   0\n",
       "Education Level          0\n",
       "Marital Status           0\n",
       "Income                   0\n",
       "Credit Score             0\n",
       "Loan Amount              0\n",
       "Loan Purpose             0\n",
       "Employment Status        0\n",
       "Years at Current Job     0\n",
       "Payment History          0\n",
       "Debt-to-Income Ratio     0\n",
       "Assets Value             0\n",
       "Number of Dependents     0\n",
       "City                     0\n",
       "State                    0\n",
       "Country                  0\n",
       "Previous Defaults        0\n",
       "Marital Status Change    0\n",
       "Risk Rating              0\n",
       "dtype: int64"
      ]
     },
     "execution_count": 41,
     "metadata": {},
     "output_type": "execute_result"
    }
   ],
   "source": [
    "df.isnull().sum()"
   ]
  },
  {
   "cell_type": "code",
   "execution_count": 43,
   "id": "4f02e320-24a7-456c-9905-d97b268a1361",
   "metadata": {},
   "outputs": [
    {
     "data": {
      "text/html": [
       "<div>\n",
       "<style scoped>\n",
       "    .dataframe tbody tr th:only-of-type {\n",
       "        vertical-align: middle;\n",
       "    }\n",
       "\n",
       "    .dataframe tbody tr th {\n",
       "        vertical-align: top;\n",
       "    }\n",
       "\n",
       "    .dataframe thead th {\n",
       "        text-align: right;\n",
       "    }\n",
       "</style>\n",
       "<table border=\"1\" class=\"dataframe\">\n",
       "  <thead>\n",
       "    <tr style=\"text-align: right;\">\n",
       "      <th></th>\n",
       "      <th>Age</th>\n",
       "      <th>Gender</th>\n",
       "      <th>Education Level</th>\n",
       "      <th>Marital Status</th>\n",
       "      <th>Income</th>\n",
       "      <th>Credit Score</th>\n",
       "      <th>Loan Amount</th>\n",
       "      <th>Loan Purpose</th>\n",
       "      <th>Employment Status</th>\n",
       "      <th>Years at Current Job</th>\n",
       "      <th>Payment History</th>\n",
       "      <th>Debt-to-Income Ratio</th>\n",
       "      <th>Assets Value</th>\n",
       "      <th>Number of Dependents</th>\n",
       "      <th>City</th>\n",
       "      <th>State</th>\n",
       "      <th>Country</th>\n",
       "      <th>Previous Defaults</th>\n",
       "      <th>Marital Status Change</th>\n",
       "      <th>Risk Rating</th>\n",
       "    </tr>\n",
       "  </thead>\n",
       "  <tbody>\n",
       "    <tr>\n",
       "      <th>0</th>\n",
       "      <td>49</td>\n",
       "      <td>Male</td>\n",
       "      <td>PhD</td>\n",
       "      <td>Divorced</td>\n",
       "      <td>72799.000000</td>\n",
       "      <td>688.000000</td>\n",
       "      <td>45713.000000</td>\n",
       "      <td>Business</td>\n",
       "      <td>Unemployed</td>\n",
       "      <td>19</td>\n",
       "      <td>Poor</td>\n",
       "      <td>0.154313</td>\n",
       "      <td>120228.000000</td>\n",
       "      <td>0.0</td>\n",
       "      <td>Port Elizabeth</td>\n",
       "      <td>AS</td>\n",
       "      <td>Cyprus</td>\n",
       "      <td>2.0</td>\n",
       "      <td>2</td>\n",
       "      <td>Low</td>\n",
       "    </tr>\n",
       "    <tr>\n",
       "      <th>1</th>\n",
       "      <td>25</td>\n",
       "      <td>Non-binary</td>\n",
       "      <td>Bachelor's</td>\n",
       "      <td>Widowed</td>\n",
       "      <td>49427.000000</td>\n",
       "      <td>766.000000</td>\n",
       "      <td>36528.000000</td>\n",
       "      <td>Personal</td>\n",
       "      <td>Unemployed</td>\n",
       "      <td>10</td>\n",
       "      <td>Fair</td>\n",
       "      <td>0.143242</td>\n",
       "      <td>287140.000000</td>\n",
       "      <td>1.0</td>\n",
       "      <td>New Heather</td>\n",
       "      <td>IL</td>\n",
       "      <td>Namibia</td>\n",
       "      <td>3.0</td>\n",
       "      <td>1</td>\n",
       "      <td>Low</td>\n",
       "    </tr>\n",
       "    <tr>\n",
       "      <th>2</th>\n",
       "      <td>31</td>\n",
       "      <td>Non-binary</td>\n",
       "      <td>Master's</td>\n",
       "      <td>Widowed</td>\n",
       "      <td>45280.000000</td>\n",
       "      <td>672.000000</td>\n",
       "      <td>6553.000000</td>\n",
       "      <td>Personal</td>\n",
       "      <td>Self-employed</td>\n",
       "      <td>1</td>\n",
       "      <td>Good</td>\n",
       "      <td>0.378890</td>\n",
       "      <td>159886.288719</td>\n",
       "      <td>1.0</td>\n",
       "      <td>West Lindaview</td>\n",
       "      <td>MD</td>\n",
       "      <td>Bouvet Island (Bouvetoya)</td>\n",
       "      <td>0.0</td>\n",
       "      <td>1</td>\n",
       "      <td>Low</td>\n",
       "    </tr>\n",
       "    <tr>\n",
       "      <th>3</th>\n",
       "      <td>18</td>\n",
       "      <td>Male</td>\n",
       "      <td>Bachelor's</td>\n",
       "      <td>Widowed</td>\n",
       "      <td>93678.000000</td>\n",
       "      <td>699.093348</td>\n",
       "      <td>27449.669888</td>\n",
       "      <td>Business</td>\n",
       "      <td>Unemployed</td>\n",
       "      <td>10</td>\n",
       "      <td>Poor</td>\n",
       "      <td>0.396636</td>\n",
       "      <td>246597.000000</td>\n",
       "      <td>1.0</td>\n",
       "      <td>Melissahaven</td>\n",
       "      <td>MA</td>\n",
       "      <td>Honduras</td>\n",
       "      <td>1.0</td>\n",
       "      <td>1</td>\n",
       "      <td>Low</td>\n",
       "    </tr>\n",
       "    <tr>\n",
       "      <th>4</th>\n",
       "      <td>32</td>\n",
       "      <td>Non-binary</td>\n",
       "      <td>Bachelor's</td>\n",
       "      <td>Widowed</td>\n",
       "      <td>20205.000000</td>\n",
       "      <td>710.000000</td>\n",
       "      <td>27449.669888</td>\n",
       "      <td>Auto</td>\n",
       "      <td>Unemployed</td>\n",
       "      <td>4</td>\n",
       "      <td>Fair</td>\n",
       "      <td>0.335965</td>\n",
       "      <td>227599.000000</td>\n",
       "      <td>0.0</td>\n",
       "      <td>North Beverly</td>\n",
       "      <td>DC</td>\n",
       "      <td>Pitcairn Islands</td>\n",
       "      <td>4.0</td>\n",
       "      <td>2</td>\n",
       "      <td>Low</td>\n",
       "    </tr>\n",
       "    <tr>\n",
       "      <th>...</th>\n",
       "      <td>...</td>\n",
       "      <td>...</td>\n",
       "      <td>...</td>\n",
       "      <td>...</td>\n",
       "      <td>...</td>\n",
       "      <td>...</td>\n",
       "      <td>...</td>\n",
       "      <td>...</td>\n",
       "      <td>...</td>\n",
       "      <td>...</td>\n",
       "      <td>...</td>\n",
       "      <td>...</td>\n",
       "      <td>...</td>\n",
       "      <td>...</td>\n",
       "      <td>...</td>\n",
       "      <td>...</td>\n",
       "      <td>...</td>\n",
       "      <td>...</td>\n",
       "      <td>...</td>\n",
       "      <td>...</td>\n",
       "    </tr>\n",
       "    <tr>\n",
       "      <th>10495</th>\n",
       "      <td>40</td>\n",
       "      <td>Male</td>\n",
       "      <td>High School</td>\n",
       "      <td>Married</td>\n",
       "      <td>43655.000000</td>\n",
       "      <td>614.000000</td>\n",
       "      <td>34565.000000</td>\n",
       "      <td>Home</td>\n",
       "      <td>Unemployed</td>\n",
       "      <td>11</td>\n",
       "      <td>Poor</td>\n",
       "      <td>0.399901</td>\n",
       "      <td>32179.000000</td>\n",
       "      <td>4.0</td>\n",
       "      <td>Curtismouth</td>\n",
       "      <td>IA</td>\n",
       "      <td>Uzbekistan</td>\n",
       "      <td>1.0</td>\n",
       "      <td>1</td>\n",
       "      <td>Low</td>\n",
       "    </tr>\n",
       "    <tr>\n",
       "      <th>10496</th>\n",
       "      <td>23</td>\n",
       "      <td>Non-binary</td>\n",
       "      <td>Bachelor's</td>\n",
       "      <td>Widowed</td>\n",
       "      <td>48088.000000</td>\n",
       "      <td>609.000000</td>\n",
       "      <td>26187.000000</td>\n",
       "      <td>Home</td>\n",
       "      <td>Self-employed</td>\n",
       "      <td>2</td>\n",
       "      <td>Fair</td>\n",
       "      <td>0.317633</td>\n",
       "      <td>159886.288719</td>\n",
       "      <td>4.0</td>\n",
       "      <td>Susanstad</td>\n",
       "      <td>TN</td>\n",
       "      <td>Djibouti</td>\n",
       "      <td>2.0</td>\n",
       "      <td>0</td>\n",
       "      <td>Low</td>\n",
       "    </tr>\n",
       "    <tr>\n",
       "      <th>10497</th>\n",
       "      <td>29</td>\n",
       "      <td>Non-binary</td>\n",
       "      <td>PhD</td>\n",
       "      <td>Married</td>\n",
       "      <td>46250.000000</td>\n",
       "      <td>642.000000</td>\n",
       "      <td>44369.000000</td>\n",
       "      <td>Home</td>\n",
       "      <td>Unemployed</td>\n",
       "      <td>19</td>\n",
       "      <td>Excellent</td>\n",
       "      <td>0.593999</td>\n",
       "      <td>196930.000000</td>\n",
       "      <td>4.0</td>\n",
       "      <td>South Morganchester</td>\n",
       "      <td>LA</td>\n",
       "      <td>Palau</td>\n",
       "      <td>2.0</td>\n",
       "      <td>1</td>\n",
       "      <td>High</td>\n",
       "    </tr>\n",
       "    <tr>\n",
       "      <th>10498</th>\n",
       "      <td>53</td>\n",
       "      <td>Non-binary</td>\n",
       "      <td>PhD</td>\n",
       "      <td>Divorced</td>\n",
       "      <td>40180.000000</td>\n",
       "      <td>638.000000</td>\n",
       "      <td>32752.000000</td>\n",
       "      <td>Home</td>\n",
       "      <td>Self-employed</td>\n",
       "      <td>12</td>\n",
       "      <td>Excellent</td>\n",
       "      <td>0.478035</td>\n",
       "      <td>276060.000000</td>\n",
       "      <td>1.0</td>\n",
       "      <td>Port Wayne</td>\n",
       "      <td>AK</td>\n",
       "      <td>Rwanda</td>\n",
       "      <td>0.0</td>\n",
       "      <td>2</td>\n",
       "      <td>High</td>\n",
       "    </tr>\n",
       "    <tr>\n",
       "      <th>10499</th>\n",
       "      <td>24</td>\n",
       "      <td>Non-binary</td>\n",
       "      <td>Bachelor's</td>\n",
       "      <td>Widowed</td>\n",
       "      <td>69535.935141</td>\n",
       "      <td>765.000000</td>\n",
       "      <td>27449.669888</td>\n",
       "      <td>Personal</td>\n",
       "      <td>Self-employed</td>\n",
       "      <td>18</td>\n",
       "      <td>Excellent</td>\n",
       "      <td>0.116083</td>\n",
       "      <td>71699.000000</td>\n",
       "      <td>3.0</td>\n",
       "      <td>South Stacy</td>\n",
       "      <td>WA</td>\n",
       "      <td>Saint Pierre and Miquelon</td>\n",
       "      <td>3.0</td>\n",
       "      <td>2</td>\n",
       "      <td>Low</td>\n",
       "    </tr>\n",
       "  </tbody>\n",
       "</table>\n",
       "<p>10500 rows × 20 columns</p>\n",
       "</div>"
      ],
      "text/plain": [
       "       Age      Gender Education Level Marital Status        Income  \\\n",
       "0       49        Male             PhD       Divorced  72799.000000   \n",
       "1       25  Non-binary      Bachelor's        Widowed  49427.000000   \n",
       "2       31  Non-binary        Master's        Widowed  45280.000000   \n",
       "3       18        Male      Bachelor's        Widowed  93678.000000   \n",
       "4       32  Non-binary      Bachelor's        Widowed  20205.000000   \n",
       "...    ...         ...             ...            ...           ...   \n",
       "10495   40        Male     High School        Married  43655.000000   \n",
       "10496   23  Non-binary      Bachelor's        Widowed  48088.000000   \n",
       "10497   29  Non-binary             PhD        Married  46250.000000   \n",
       "10498   53  Non-binary             PhD       Divorced  40180.000000   \n",
       "10499   24  Non-binary      Bachelor's        Widowed  69535.935141   \n",
       "\n",
       "       Credit Score   Loan Amount Loan Purpose Employment Status  \\\n",
       "0        688.000000  45713.000000     Business        Unemployed   \n",
       "1        766.000000  36528.000000     Personal        Unemployed   \n",
       "2        672.000000   6553.000000     Personal     Self-employed   \n",
       "3        699.093348  27449.669888     Business        Unemployed   \n",
       "4        710.000000  27449.669888         Auto        Unemployed   \n",
       "...             ...           ...          ...               ...   \n",
       "10495    614.000000  34565.000000         Home        Unemployed   \n",
       "10496    609.000000  26187.000000         Home     Self-employed   \n",
       "10497    642.000000  44369.000000         Home        Unemployed   \n",
       "10498    638.000000  32752.000000         Home     Self-employed   \n",
       "10499    765.000000  27449.669888     Personal     Self-employed   \n",
       "\n",
       "       Years at Current Job Payment History  Debt-to-Income Ratio  \\\n",
       "0                        19            Poor              0.154313   \n",
       "1                        10            Fair              0.143242   \n",
       "2                         1            Good              0.378890   \n",
       "3                        10            Poor              0.396636   \n",
       "4                         4            Fair              0.335965   \n",
       "...                     ...             ...                   ...   \n",
       "10495                    11            Poor              0.399901   \n",
       "10496                     2            Fair              0.317633   \n",
       "10497                    19       Excellent              0.593999   \n",
       "10498                    12       Excellent              0.478035   \n",
       "10499                    18       Excellent              0.116083   \n",
       "\n",
       "        Assets Value  Number of Dependents                 City State  \\\n",
       "0      120228.000000                   0.0       Port Elizabeth    AS   \n",
       "1      287140.000000                   1.0          New Heather    IL   \n",
       "2      159886.288719                   1.0       West Lindaview    MD   \n",
       "3      246597.000000                   1.0         Melissahaven    MA   \n",
       "4      227599.000000                   0.0        North Beverly    DC   \n",
       "...              ...                   ...                  ...   ...   \n",
       "10495   32179.000000                   4.0          Curtismouth    IA   \n",
       "10496  159886.288719                   4.0            Susanstad    TN   \n",
       "10497  196930.000000                   4.0  South Morganchester    LA   \n",
       "10498  276060.000000                   1.0           Port Wayne    AK   \n",
       "10499   71699.000000                   3.0          South Stacy    WA   \n",
       "\n",
       "                         Country  Previous Defaults  Marital Status Change  \\\n",
       "0                         Cyprus                2.0                      2   \n",
       "1                        Namibia                3.0                      1   \n",
       "2      Bouvet Island (Bouvetoya)                0.0                      1   \n",
       "3                       Honduras                1.0                      1   \n",
       "4               Pitcairn Islands                4.0                      2   \n",
       "...                          ...                ...                    ...   \n",
       "10495                 Uzbekistan                1.0                      1   \n",
       "10496                   Djibouti                2.0                      0   \n",
       "10497                      Palau                2.0                      1   \n",
       "10498                     Rwanda                0.0                      2   \n",
       "10499  Saint Pierre and Miquelon                3.0                      2   \n",
       "\n",
       "      Risk Rating  \n",
       "0             Low  \n",
       "1             Low  \n",
       "2             Low  \n",
       "3             Low  \n",
       "4             Low  \n",
       "...           ...  \n",
       "10495         Low  \n",
       "10496         Low  \n",
       "10497        High  \n",
       "10498        High  \n",
       "10499         Low  \n",
       "\n",
       "[10500 rows x 20 columns]"
      ]
     },
     "execution_count": 43,
     "metadata": {},
     "output_type": "execute_result"
    }
   ],
   "source": [
    "df"
   ]
  },
  {
   "cell_type": "code",
   "execution_count": 45,
   "id": "e0c8aea7-489b-4b67-8653-de3cd3a050bd",
   "metadata": {},
   "outputs": [
    {
     "name": "stdout",
     "output_type": "stream",
     "text": [
      " 'Gender': ['Male' 'Non-binary' 'Female']\n",
      " 'Education Level': ['PhD' \"Bachelor's\" \"Master's\" 'High School']\n",
      " 'Marital Status': ['Divorced' 'Widowed' 'Married' 'Single']\n",
      " 'Loan Purpose': ['Business' 'Personal' 'Auto' 'Home']\n",
      " 'Employment Status': ['Unemployed' 'Self-employed' 'Employed']\n",
      " 'Payment History': ['Poor' 'Fair' 'Good' 'Excellent']\n",
      " 'City': ['Port Elizabeth' 'New Heather' 'West Lindaview' ... 'South Morganchester'\n",
      " 'Port Wayne' 'South Stacy']\n",
      " 'State': ['AS' 'IL' 'MD' 'MA' 'DC' 'VT' 'OH' 'NM' 'MH' 'MS' 'KS' 'NH' 'VI' 'AZ'\n",
      " 'OR' 'IA' 'GA' 'ID' 'TN' 'AL' 'MO' 'WY' 'KY' 'RI' 'DE' 'WV' 'ND' 'NY'\n",
      " 'NJ' 'CO' 'MP' 'PW' 'NV' 'FM' 'CA' 'WA' 'NC' 'IN' 'GU' 'AR' 'WI' 'SD'\n",
      " 'MT' 'MN' 'HI' 'NE' 'ME' 'VA' 'AK' 'PA' 'FL' 'LA' 'PR' 'OK' 'SC' 'UT'\n",
      " 'MI' 'TX' 'CT']\n",
      " 'Country': ['Cyprus' 'Namibia' 'Bouvet Island (Bouvetoya)' 'Honduras'\n",
      " 'Pitcairn Islands' 'Thailand'\n",
      " 'Antarctica (the territory South of 60 deg S)' 'Eritrea' 'Guadeloupe'\n",
      " 'Malawi' 'Oman' 'Uruguay' 'Gambia'\n",
      " 'South Georgia and the South Sandwich Islands' 'Palau' 'Tokelau'\n",
      " 'Hungary' 'Guyana' \"Cote d'Ivoire\" 'Nauru' 'Guam' 'Belize' 'Seychelles'\n",
      " 'Sao Tome and Principe' 'Svalbard & Jan Mayen Islands' 'China'\n",
      " 'French Guiana' 'Iceland' 'Martinique' 'Tajikistan' 'Kuwait'\n",
      " 'British Indian Ocean Territory (Chagos Archipelago)' 'Singapore'\n",
      " 'Dominica' 'Brunei Darussalam' 'French Polynesia' 'Zimbabwe' 'Serbia'\n",
      " 'San Marino' 'Kazakhstan' 'Armenia' 'Netherlands' 'Somalia' 'Latvia'\n",
      " 'Mexico' 'French Southern Territories' 'South Africa' 'Egypt' 'Jordan'\n",
      " 'Turkey' 'Swaziland' 'Botswana' 'Russian Federation' 'Mali' 'Ukraine'\n",
      " 'Ethiopia' 'Togo' 'Angola' 'Guatemala' 'Monaco' 'Romania' 'Suriname'\n",
      " 'Burundi' 'Costa Rica' 'Brazil' 'India' 'Mayotte'\n",
      " 'Saint Pierre and Miquelon' 'Argentina' 'Paraguay' 'Mozambique'\n",
      " 'El Salvador' 'Netherlands Antilles' 'Maldives' 'Iran'\n",
      " 'Wallis and Futuna' 'Micronesia' 'Azerbaijan' 'Guinea-Bissau' 'Austria'\n",
      " 'Peru' 'Norway' 'Bangladesh' 'American Samoa' 'Ireland' 'Australia'\n",
      " 'Georgia' 'Panama' 'Finland' 'United States Virgin Islands' 'Andorra'\n",
      " 'Cocos (Keeling) Islands' 'United Arab Emirates' 'Burkina Faso' 'Niger'\n",
      " 'Falkland Islands (Malvinas)' 'Slovakia (Slovak Republic)' 'Chile'\n",
      " 'Djibouti' 'Samoa' 'Comoros' 'Western Sahara' 'North Macedonia'\n",
      " 'Puerto Rico' 'Pakistan' 'Mauritania' 'Lesotho' 'New Caledonia'\n",
      " 'Cape Verde' 'Senegal' 'Marshall Islands' 'Moldova' 'Italy' 'Canada'\n",
      " 'Bulgaria' 'Macao' 'Malta' 'Sweden' 'Montserrat' 'Mauritius'\n",
      " 'Norfolk Island' 'Holy See (Vatican City State)' 'Vietnam' 'Germany'\n",
      " 'Qatar' 'Japan' 'Taiwan' 'Tanzania' 'Congo' 'Saint Lucia' 'Yemen'\n",
      " 'France' 'Niue' 'Tonga' 'Sri Lanka' 'Tunisia' 'Cuba' 'Sudan' 'Zambia'\n",
      " 'Bhutan' 'United States of America' 'Grenada' 'Hong Kong' 'Faroe Islands'\n",
      " 'Greenland' 'Libyan Arab Jamahiriya' 'Heard Island and McDonald Islands'\n",
      " 'Jersey' 'Equatorial Guinea' 'Slovenia' 'Tuvalu' 'Algeria' 'Korea'\n",
      " 'Aruba' 'Luxembourg' 'Rwanda' 'Cambodia' 'Christmas Island' 'Gabon'\n",
      " 'Czech Republic' 'Saint Barthelemy' 'Ecuador' 'Portugal' 'Sierra Leone'\n",
      " 'Kenya' 'Papua New Guinea' 'Bosnia and Herzegovina' 'Poland'\n",
      " 'Afghanistan' 'Saint Vincent and the Grenadines' 'Nigeria' 'Timor-Leste'\n",
      " 'Malaysia' 'Indonesia' 'Montenegro' 'Kyrgyz Republic' 'Guinea'\n",
      " 'Venezuela' 'Trinidad and Tobago' 'Guernsey' 'Central African Republic'\n",
      " 'Belarus' 'Iraq' 'Saudi Arabia' 'Palestinian Territory' 'Chad' 'Lebanon'\n",
      " 'Liechtenstein' 'Cayman Islands' 'Vanuatu' 'Uzbekistan' 'Liberia'\n",
      " 'United States Minor Outlying Islands' 'Northern Mariana Islands'\n",
      " 'Dominican Republic' 'Gibraltar' 'Nicaragua' 'Myanmar' 'Bahamas'\n",
      " 'Isle of Man' 'Fiji' 'Turkmenistan' 'New Zealand' 'Jamaica' 'Croatia'\n",
      " 'Bermuda' 'Cameroon' 'Mongolia' 'Solomon Islands' 'Antigua and Barbuda'\n",
      " 'Bahrain' 'Turks and Caicos Islands' 'Syrian Arab Republic' 'Albania'\n",
      " 'Saint Kitts and Nevis' 'Saint Helena' 'Barbados' 'Nepal' 'Greece'\n",
      " 'Denmark' 'Bolivia' 'Anguilla' 'Estonia' 'Spain' 'Belgium' 'Colombia'\n",
      " 'Ghana' 'Uganda' 'United Kingdom' 'Haiti' 'Israel' 'Philippines'\n",
      " 'Saint Martin' 'Kiribati' 'Reunion' \"Lao People's Democratic Republic\"\n",
      " 'British Virgin Islands' 'Madagascar' 'Lithuania' 'Switzerland' 'Benin'\n",
      " 'Cook Islands' 'Morocco']\n",
      " 'Risk Rating': ['Low' 'High']\n"
     ]
    }
   ],
   "source": [
    "#Check Unique values in each categorical column\n",
    "for col in df.select_dtypes(include='object'):  # Select categorical columns (object type)\n",
    "    unique_values = df[col].unique()\n",
    "    print(f\" '{col}': {unique_values}\")"
   ]
  },
  {
   "cell_type": "markdown",
   "id": "42abb814-9a1a-41ab-895e-53dc2d7d679a",
   "metadata": {},
   "source": [
    "### Find correlation between Risk Rating column with other categorical columns"
   ]
  },
  {
   "cell_type": "code",
   "execution_count": 48,
   "id": "1b13dd42-6abd-4d78-924c-984ab77a318d",
   "metadata": {},
   "outputs": [
    {
     "name": "stdout",
     "output_type": "stream",
     "text": [
      "Cramér's V for Gender and Risk Rating: 0.024397047231932888\n",
      "Cramér's V for Education Level and Risk Rating: 0.012680084204131905\n",
      "Cramér's V for Marital Status and Risk Rating: 0.022375185950592878\n",
      "Cramér's V for Loan Purpose and Risk Rating: 0.025668056146136632\n",
      "Cramér's V for Employement Status and Risk Rating: 0.015433015305277563\n",
      "Cramér's V for Payment History and Risk Rating: 0.019797386112888005\n",
      "Cramér's V for City and Risk Rating: 0.8802450179057865\n",
      "Cramér's V for State and Risk Rating: 0.07595302023802004\n",
      "Cramér's V for Country and Risk Rating: 0.15003672741293336\n"
     ]
    }
   ],
   "source": [
    "\n",
    "from scipy.stats import chi2_contingency\n",
    "def cramers_v(contingency_table):\n",
    "    chi2, p, dof, expected = chi2_contingency(contingency_table)\n",
    "    n = contingency_table.sum().sum()  # Total sample size\n",
    "    r, k = contingency_table.shape\n",
    "    cramers_v = np.sqrt(chi2 / (n * (min(r, k) - 1)))\n",
    "    return cramers_v\n",
    "    \n",
    "contingency_table = pd.crosstab(df['Gender'], df['Risk Rating'])\n",
    "cramers_v_value = cramers_v(contingency_table)\n",
    "print(f\"Cramér's V for Gender and Risk Rating: {cramers_v_value}\")\n",
    "\n",
    "contingency_table = pd.crosstab(df['Education Level'], df['Risk Rating'])\n",
    "cramers_v_value = cramers_v(contingency_table)\n",
    "print(f\"Cramér's V for Education Level and Risk Rating: {cramers_v_value}\")\n",
    "\n",
    "contingency_table = pd.crosstab(df['Marital Status'], df['Risk Rating'])\n",
    "cramers_v_value = cramers_v(contingency_table)\n",
    "print(f\"Cramér's V for Marital Status and Risk Rating: {cramers_v_value}\")\n",
    "\n",
    "contingency_table = pd.crosstab(df['Loan Purpose'], df['Risk Rating'])\n",
    "cramers_v_value = cramers_v(contingency_table)\n",
    "print(f\"Cramér's V for Loan Purpose and Risk Rating: {cramers_v_value}\")\n",
    "\n",
    "contingency_table = pd.crosstab(df['Employment Status'], df['Risk Rating'])\n",
    "cramers_v_value = cramers_v(contingency_table)\n",
    "print(f\"Cramér's V for Employement Status and Risk Rating: {cramers_v_value}\")\n",
    "\n",
    "contingency_table = pd.crosstab(df['Payment History'], df['Risk Rating'])\n",
    "cramers_v_value = cramers_v(contingency_table)\n",
    "print(f\"Cramér's V for Payment History and Risk Rating: {cramers_v_value}\")\n",
    "\n",
    "\n",
    "contingency_table = pd.crosstab(df['City'], df['Risk Rating'])\n",
    "cramers_v_value = cramers_v(contingency_table)\n",
    "print(f\"Cramér's V for City and Risk Rating: {cramers_v_value}\")\n",
    "\n",
    "contingency_table = pd.crosstab(df['State'], df['Risk Rating'])\n",
    "cramers_v_value = cramers_v(contingency_table)\n",
    "print(f\"Cramér's V for State and Risk Rating: {cramers_v_value}\")\n",
    "\n",
    "contingency_table = pd.crosstab(df['Country'], df['Risk Rating'])\n",
    "cramers_v_value = cramers_v(contingency_table)\n",
    "print(f\"Cramér's V for Country and Risk Rating: {cramers_v_value}\")\n",
    "\n"
   ]
  },
  {
   "cell_type": "code",
   "execution_count": 50,
   "id": "f8c1ed4a-3445-4a93-bb19-a27545f2c6f4",
   "metadata": {},
   "outputs": [
    {
     "name": "stdout",
     "output_type": "stream",
     "text": [
      "Number of unique cities: 8027\n"
     ]
    }
   ],
   "source": [
    "# Count the number of unique cities\n",
    "unique_city_count = df['City'].nunique()\n",
    "print(f\"Number of unique cities: {unique_city_count}\")\n"
   ]
  },
  {
   "cell_type": "markdown",
   "id": "ee15b854-94c7-43fe-bdc2-deee37ebef4c",
   "metadata": {},
   "source": [
    "## Drop Columns"
   ]
  },
  {
   "cell_type": "code",
   "execution_count": 53,
   "id": "fa702504-5a27-4ac7-802a-98bbfd97243c",
   "metadata": {},
   "outputs": [
    {
     "name": "stdout",
     "output_type": "stream",
     "text": [
      "Index(['Age', 'Income', 'Loan Amount', 'Loan Purpose', 'Employment Status',\n",
      "       'Payment History', 'Assets Value', 'City', 'Previous Defaults',\n",
      "       'Risk Rating'],\n",
      "      dtype='object')\n"
     ]
    }
   ],
   "source": [
    "# Drop unnecessary categorical columns\n",
    "df = df.drop(['State', 'Country', 'Education Level','Marital Status','Marital Status Change','Gender','Years at Current Job','Number of Dependents','Debt-to-Income Ratio','Credit Score'], axis=1)\n",
    "\n",
    "print(df.columns)"
   ]
  },
  {
   "cell_type": "code",
   "execution_count": 55,
   "id": "1bc58c04-4026-462c-9709-a616e32e3b8c",
   "metadata": {},
   "outputs": [
    {
     "data": {
      "text/html": [
       "<div>\n",
       "<style scoped>\n",
       "    .dataframe tbody tr th:only-of-type {\n",
       "        vertical-align: middle;\n",
       "    }\n",
       "\n",
       "    .dataframe tbody tr th {\n",
       "        vertical-align: top;\n",
       "    }\n",
       "\n",
       "    .dataframe thead th {\n",
       "        text-align: right;\n",
       "    }\n",
       "</style>\n",
       "<table border=\"1\" class=\"dataframe\">\n",
       "  <thead>\n",
       "    <tr style=\"text-align: right;\">\n",
       "      <th></th>\n",
       "      <th>Age</th>\n",
       "      <th>Income</th>\n",
       "      <th>Loan Amount</th>\n",
       "      <th>Loan Purpose</th>\n",
       "      <th>Employment Status</th>\n",
       "      <th>Payment History</th>\n",
       "      <th>Assets Value</th>\n",
       "      <th>City</th>\n",
       "      <th>Previous Defaults</th>\n",
       "      <th>Risk Rating</th>\n",
       "    </tr>\n",
       "  </thead>\n",
       "  <tbody>\n",
       "    <tr>\n",
       "      <th>0</th>\n",
       "      <td>49</td>\n",
       "      <td>72799.000000</td>\n",
       "      <td>45713.000000</td>\n",
       "      <td>Business</td>\n",
       "      <td>Unemployed</td>\n",
       "      <td>Poor</td>\n",
       "      <td>120228.000000</td>\n",
       "      <td>Port Elizabeth</td>\n",
       "      <td>2.0</td>\n",
       "      <td>Low</td>\n",
       "    </tr>\n",
       "    <tr>\n",
       "      <th>1</th>\n",
       "      <td>25</td>\n",
       "      <td>49427.000000</td>\n",
       "      <td>36528.000000</td>\n",
       "      <td>Personal</td>\n",
       "      <td>Unemployed</td>\n",
       "      <td>Fair</td>\n",
       "      <td>287140.000000</td>\n",
       "      <td>New Heather</td>\n",
       "      <td>3.0</td>\n",
       "      <td>Low</td>\n",
       "    </tr>\n",
       "    <tr>\n",
       "      <th>2</th>\n",
       "      <td>31</td>\n",
       "      <td>45280.000000</td>\n",
       "      <td>6553.000000</td>\n",
       "      <td>Personal</td>\n",
       "      <td>Self-employed</td>\n",
       "      <td>Good</td>\n",
       "      <td>159886.288719</td>\n",
       "      <td>West Lindaview</td>\n",
       "      <td>0.0</td>\n",
       "      <td>Low</td>\n",
       "    </tr>\n",
       "    <tr>\n",
       "      <th>3</th>\n",
       "      <td>18</td>\n",
       "      <td>93678.000000</td>\n",
       "      <td>27449.669888</td>\n",
       "      <td>Business</td>\n",
       "      <td>Unemployed</td>\n",
       "      <td>Poor</td>\n",
       "      <td>246597.000000</td>\n",
       "      <td>Melissahaven</td>\n",
       "      <td>1.0</td>\n",
       "      <td>Low</td>\n",
       "    </tr>\n",
       "    <tr>\n",
       "      <th>4</th>\n",
       "      <td>32</td>\n",
       "      <td>20205.000000</td>\n",
       "      <td>27449.669888</td>\n",
       "      <td>Auto</td>\n",
       "      <td>Unemployed</td>\n",
       "      <td>Fair</td>\n",
       "      <td>227599.000000</td>\n",
       "      <td>North Beverly</td>\n",
       "      <td>4.0</td>\n",
       "      <td>Low</td>\n",
       "    </tr>\n",
       "    <tr>\n",
       "      <th>...</th>\n",
       "      <td>...</td>\n",
       "      <td>...</td>\n",
       "      <td>...</td>\n",
       "      <td>...</td>\n",
       "      <td>...</td>\n",
       "      <td>...</td>\n",
       "      <td>...</td>\n",
       "      <td>...</td>\n",
       "      <td>...</td>\n",
       "      <td>...</td>\n",
       "    </tr>\n",
       "    <tr>\n",
       "      <th>10495</th>\n",
       "      <td>40</td>\n",
       "      <td>43655.000000</td>\n",
       "      <td>34565.000000</td>\n",
       "      <td>Home</td>\n",
       "      <td>Unemployed</td>\n",
       "      <td>Poor</td>\n",
       "      <td>32179.000000</td>\n",
       "      <td>Curtismouth</td>\n",
       "      <td>1.0</td>\n",
       "      <td>Low</td>\n",
       "    </tr>\n",
       "    <tr>\n",
       "      <th>10496</th>\n",
       "      <td>23</td>\n",
       "      <td>48088.000000</td>\n",
       "      <td>26187.000000</td>\n",
       "      <td>Home</td>\n",
       "      <td>Self-employed</td>\n",
       "      <td>Fair</td>\n",
       "      <td>159886.288719</td>\n",
       "      <td>Susanstad</td>\n",
       "      <td>2.0</td>\n",
       "      <td>Low</td>\n",
       "    </tr>\n",
       "    <tr>\n",
       "      <th>10497</th>\n",
       "      <td>29</td>\n",
       "      <td>46250.000000</td>\n",
       "      <td>44369.000000</td>\n",
       "      <td>Home</td>\n",
       "      <td>Unemployed</td>\n",
       "      <td>Excellent</td>\n",
       "      <td>196930.000000</td>\n",
       "      <td>South Morganchester</td>\n",
       "      <td>2.0</td>\n",
       "      <td>High</td>\n",
       "    </tr>\n",
       "    <tr>\n",
       "      <th>10498</th>\n",
       "      <td>53</td>\n",
       "      <td>40180.000000</td>\n",
       "      <td>32752.000000</td>\n",
       "      <td>Home</td>\n",
       "      <td>Self-employed</td>\n",
       "      <td>Excellent</td>\n",
       "      <td>276060.000000</td>\n",
       "      <td>Port Wayne</td>\n",
       "      <td>0.0</td>\n",
       "      <td>High</td>\n",
       "    </tr>\n",
       "    <tr>\n",
       "      <th>10499</th>\n",
       "      <td>24</td>\n",
       "      <td>69535.935141</td>\n",
       "      <td>27449.669888</td>\n",
       "      <td>Personal</td>\n",
       "      <td>Self-employed</td>\n",
       "      <td>Excellent</td>\n",
       "      <td>71699.000000</td>\n",
       "      <td>South Stacy</td>\n",
       "      <td>3.0</td>\n",
       "      <td>Low</td>\n",
       "    </tr>\n",
       "  </tbody>\n",
       "</table>\n",
       "<p>10500 rows × 10 columns</p>\n",
       "</div>"
      ],
      "text/plain": [
       "       Age        Income   Loan Amount Loan Purpose Employment Status  \\\n",
       "0       49  72799.000000  45713.000000     Business        Unemployed   \n",
       "1       25  49427.000000  36528.000000     Personal        Unemployed   \n",
       "2       31  45280.000000   6553.000000     Personal     Self-employed   \n",
       "3       18  93678.000000  27449.669888     Business        Unemployed   \n",
       "4       32  20205.000000  27449.669888         Auto        Unemployed   \n",
       "...    ...           ...           ...          ...               ...   \n",
       "10495   40  43655.000000  34565.000000         Home        Unemployed   \n",
       "10496   23  48088.000000  26187.000000         Home     Self-employed   \n",
       "10497   29  46250.000000  44369.000000         Home        Unemployed   \n",
       "10498   53  40180.000000  32752.000000         Home     Self-employed   \n",
       "10499   24  69535.935141  27449.669888     Personal     Self-employed   \n",
       "\n",
       "      Payment History   Assets Value                 City  Previous Defaults  \\\n",
       "0                Poor  120228.000000       Port Elizabeth                2.0   \n",
       "1                Fair  287140.000000          New Heather                3.0   \n",
       "2                Good  159886.288719       West Lindaview                0.0   \n",
       "3                Poor  246597.000000         Melissahaven                1.0   \n",
       "4                Fair  227599.000000        North Beverly                4.0   \n",
       "...               ...            ...                  ...                ...   \n",
       "10495            Poor   32179.000000          Curtismouth                1.0   \n",
       "10496            Fair  159886.288719            Susanstad                2.0   \n",
       "10497       Excellent  196930.000000  South Morganchester                2.0   \n",
       "10498       Excellent  276060.000000           Port Wayne                0.0   \n",
       "10499       Excellent   71699.000000          South Stacy                3.0   \n",
       "\n",
       "      Risk Rating  \n",
       "0             Low  \n",
       "1             Low  \n",
       "2             Low  \n",
       "3             Low  \n",
       "4             Low  \n",
       "...           ...  \n",
       "10495         Low  \n",
       "10496         Low  \n",
       "10497        High  \n",
       "10498        High  \n",
       "10499         Low  \n",
       "\n",
       "[10500 rows x 10 columns]"
      ]
     },
     "execution_count": 55,
     "metadata": {},
     "output_type": "execute_result"
    }
   ],
   "source": [
    "df"
   ]
  },
  {
   "cell_type": "markdown",
   "id": "261100bd-8d98-4687-86ea-d2c7df7e3b6a",
   "metadata": {},
   "source": [
    "### For Ordinal Categorical Data Encoding using Lable Encoding"
   ]
  },
  {
   "cell_type": "code",
   "execution_count": 58,
   "id": "0c4c01ad-398c-4988-9483-7dd4b3ee154b",
   "metadata": {},
   "outputs": [],
   "source": [
    "\n",
    "from sklearn.preprocessing import LabelEncoder\n",
    "\n",
    "label_encoder = LabelEncoder()\n",
    "\n",
    "# defined order for ordinal columns\n",
    "\n",
    "payment_history_order = ['Poor', 'Fair', 'Good', 'Excellent']\n",
    "risk_rating_order = ['Low', 'High']\n",
    "\n",
    "\n",
    "df['Payment History'] = pd.Categorical(df['Payment History'], categories=payment_history_order, ordered=True)\n",
    "df['Risk Rating'] = pd.Categorical(df['Risk Rating'], categories=risk_rating_order, ordered=True)\n",
    "\n",
    "#df['Education Level Encoded'] = label_encoder.fit_transform(df['Education Level'])\n",
    "df['Payment History'] = label_encoder.fit_transform(df['Payment History'])\n",
    "df['Risk Rating'] = label_encoder.fit_transform(df['Risk Rating'])\n"
   ]
  },
  {
   "cell_type": "markdown",
   "id": "367e05d9-63d1-42c0-a0e6-a497e9b60764",
   "metadata": {},
   "source": [
    "## Group city by risk rating mean"
   ]
  },
  {
   "cell_type": "code",
   "execution_count": 61,
   "id": "f67d37b2-b270-4303-b7fc-09f52c5d90c2",
   "metadata": {},
   "outputs": [
    {
     "name": "stdout",
     "output_type": "stream",
     "text": [
      "                      City      City_grouped\n",
      "0           Port Elizabeth  High_Risk_Cities\n",
      "1              New Heather  High_Risk_Cities\n",
      "2           West Lindaview  High_Risk_Cities\n",
      "3             Melissahaven  High_Risk_Cities\n",
      "4            North Beverly  High_Risk_Cities\n",
      "...                    ...               ...\n",
      "10495          Curtismouth  High_Risk_Cities\n",
      "10496            Susanstad  High_Risk_Cities\n",
      "10497  South Morganchester   Low_Risk_Cities\n",
      "10498           Port Wayne   Low_Risk_Cities\n",
      "10499          South Stacy  High_Risk_Cities\n",
      "\n",
      "[10500 rows x 2 columns]\n"
     ]
    }
   ],
   "source": [
    "# Group by City and calculate the mean Risk Rating for each city\n",
    "city_risk_means = df.groupby('City')['Risk Rating'].mean()\n",
    "\n",
    "# Assign groups based on risk level \n",
    "df['City_grouped'] = df['City'].apply(lambda x: 'High_Risk_Cities' if city_risk_means[x] > 0.5\n",
    "                                                      else 'Low_Risk_Cities')\n",
    "\n",
    "\n",
    "print(df[['City', 'City_grouped']])\n"
   ]
  },
  {
   "cell_type": "code",
   "execution_count": 63,
   "id": "876441d6-bbab-4360-bb73-e16d07a060a5",
   "metadata": {},
   "outputs": [
    {
     "data": {
      "text/plain": [
       "City_grouped\n",
       "High_Risk_Cities    8916\n",
       "Low_Risk_Cities     1584\n",
       "Name: count, dtype: int64"
      ]
     },
     "execution_count": 63,
     "metadata": {},
     "output_type": "execute_result"
    }
   ],
   "source": [
    " df['City_grouped'].value_counts()"
   ]
  },
  {
   "cell_type": "code",
   "execution_count": 65,
   "id": "b87b6e45-f594-41f7-bb00-a922b2d15d04",
   "metadata": {},
   "outputs": [],
   "source": [
    "#  defined order for city columns\n",
    "city_grouped_order = [\"Low_Risk_Cities\", \"High_Risk_Cities\"]\n",
    "\n",
    "\n",
    "df['City_grouped'] = pd.Categorical(df['City_grouped'], categories=city_grouped_order, ordered=True)\n",
    "\n",
    "df['City_grouped'] = label_encoder.fit_transform(df['City_grouped'])\n",
    "df['City'] = df['City_grouped']\n",
    "df = df.drop('City_grouped', axis=1)\n"
   ]
  },
  {
   "cell_type": "code",
   "execution_count": 67,
   "id": "5451a1ef-ce12-473e-bd31-14a2ad5f3c7a",
   "metadata": {},
   "outputs": [
    {
     "name": "stdout",
     "output_type": "stream",
     "text": [
      "<class 'pandas.core.frame.DataFrame'>\n",
      "RangeIndex: 10500 entries, 0 to 10499\n",
      "Data columns (total 10 columns):\n",
      " #   Column             Non-Null Count  Dtype  \n",
      "---  ------             --------------  -----  \n",
      " 0   Age                10500 non-null  int64  \n",
      " 1   Income             10500 non-null  float64\n",
      " 2   Loan Amount        10500 non-null  float64\n",
      " 3   Loan Purpose       10500 non-null  object \n",
      " 4   Employment Status  10500 non-null  object \n",
      " 5   Payment History    10500 non-null  int32  \n",
      " 6   Assets Value       10500 non-null  float64\n",
      " 7   City               10500 non-null  int32  \n",
      " 8   Previous Defaults  10500 non-null  float64\n",
      " 9   Risk Rating        10500 non-null  int32  \n",
      "dtypes: float64(4), int32(3), int64(1), object(2)\n",
      "memory usage: 697.4+ KB\n"
     ]
    }
   ],
   "source": [
    "df.info()\n"
   ]
  },
  {
   "cell_type": "markdown",
   "id": "7d1b5197-52c9-4bcd-9e66-ddf3304b6928",
   "metadata": {},
   "source": [
    "## Correlation Matrix"
   ]
  },
  {
   "cell_type": "code",
   "execution_count": 70,
   "id": "15275962-6543-4736-83a5-4f997dad0ab6",
   "metadata": {},
   "outputs": [
    {
     "data": {
      "image/png": "[encoded data removed]",
      "text/plain": [
       "<Figure size 1000x800 with 2 Axes>"
      ]
     },
     "metadata": {},
     "output_type": "display_data"
    }
   ],
   "source": [
    "# Select only numerical columns from the dataframe\n",
    "numerical_cols = df.select_dtypes(include=['int64','int32', 'float64'])\n",
    "\n",
    "# Calculate correlation matrix for numerical columns\n",
    "corr_matrix = numerical_cols.corr()\n",
    "\n",
    "# Check if 'Risk Rating' is an existing column\n",
    "if 'Risk Rating' in corr_matrix.columns:\n",
    "    # Get the correlation between 'Risk Rating' and other numerical features\n",
    "    risk_rating_correlation = corr_matrix['Risk Rating'].sort_values(ascending=False)\n",
    "\n",
    "    # Visualize the correlation matrix as a heatmap using seaborn\n",
    "    import seaborn as sns\n",
    "    import matplotlib.pyplot as plt\n",
    "\n",
    "    plt.figure(figsize=(10, 8))\n",
    "    sns.heatmap(risk_rating_correlation.to_frame(), annot=True, cmap='coolwarm', fmt='.2f')\n",
    "    plt.title('Correlation with Risk Rating')\n",
    "    plt.show()\n",
    "else:\n",
    "    print(\"'Risk Rating' column is not found in the correlation matrix.\")\n",
    "\n"
   ]
  },
  {
   "cell_type": "markdown",
   "id": "588f1dc4-16fe-40e8-8518-574c61e9b747",
   "metadata": {},
   "source": [
    "### Nominal Categorical data encoding with One-Hot Encoding"
   ]
  },
  {
   "cell_type": "code",
   "execution_count": 73,
   "id": "faa396b5-6d52-4882-a7fb-e96f4594e2f9",
   "metadata": {},
   "outputs": [
    {
     "name": "stdout",
     "output_type": "stream",
     "text": [
      "DataFrame after One-Hot Encoding with original columns replaced:\n",
      "       Age        Income   Loan Amount  Payment History   Assets Value  City  \\\n",
      "0       49  72799.000000  45713.000000                3  120228.000000     0   \n",
      "1       25  49427.000000  36528.000000                1  287140.000000     0   \n",
      "2       31  45280.000000   6553.000000                2  159886.288719     0   \n",
      "3       18  93678.000000  27449.669888                3  246597.000000     0   \n",
      "4       32  20205.000000  27449.669888                1  227599.000000     0   \n",
      "...    ...           ...           ...              ...            ...   ...   \n",
      "10495   40  43655.000000  34565.000000                3   32179.000000     0   \n",
      "10496   23  48088.000000  26187.000000                1  159886.288719     0   \n",
      "10497   29  46250.000000  44369.000000                0  196930.000000     1   \n",
      "10498   53  40180.000000  32752.000000                0  276060.000000     1   \n",
      "10499   24  69535.935141  27449.669888                0   71699.000000     0   \n",
      "\n",
      "       Previous Defaults  Risk Rating  Loan Purpose_Auto  \\\n",
      "0                    2.0            1                  0   \n",
      "1                    3.0            1                  0   \n",
      "2                    0.0            1                  0   \n",
      "3                    1.0            1                  0   \n",
      "4                    4.0            1                  1   \n",
      "...                  ...          ...                ...   \n",
      "10495                1.0            1                  0   \n",
      "10496                2.0            1                  0   \n",
      "10497                2.0            0                  0   \n",
      "10498                0.0            0                  0   \n",
      "10499                3.0            1                  0   \n",
      "\n",
      "       Loan Purpose_Business  Loan Purpose_Home  Loan Purpose_Personal  \\\n",
      "0                          1                  0                      0   \n",
      "1                          0                  0                      1   \n",
      "2                          0                  0                      1   \n",
      "3                          1                  0                      0   \n",
      "4                          0                  0                      0   \n",
      "...                      ...                ...                    ...   \n",
      "10495                      0                  1                      0   \n",
      "10496                      0                  1                      0   \n",
      "10497                      0                  1                      0   \n",
      "10498                      0                  1                      0   \n",
      "10499                      0                  0                      1   \n",
      "\n",
      "       Employment Status_Employed  Employment Status_Self-employed  \\\n",
      "0                               0                                0   \n",
      "1                               0                                0   \n",
      "2                               0                                1   \n",
      "3                               0                                0   \n",
      "4                               0                                0   \n",
      "...                           ...                              ...   \n",
      "10495                           0                                0   \n",
      "10496                           0                                1   \n",
      "10497                           0                                0   \n",
      "10498                           0                                1   \n",
      "10499                           0                                1   \n",
      "\n",
      "       Employment Status_Unemployed  \n",
      "0                                 1  \n",
      "1                                 1  \n",
      "2                                 0  \n",
      "3                                 1  \n",
      "4                                 1  \n",
      "...                             ...  \n",
      "10495                             1  \n",
      "10496                             0  \n",
      "10497                             1  \n",
      "10498                             0  \n",
      "10499                             0  \n",
      "\n",
      "[10500 rows x 15 columns]\n"
     ]
    }
   ],
   "source": [
    "# List of columns to One-Hot Encode\n",
    "categorical_columns = [ 'Loan Purpose', 'Employment Status']\n",
    "\n",
    "# Apply One-Hot Encoding to the specified categorical columns\n",
    "df_encoded = pd.get_dummies(df, columns=categorical_columns, drop_first=False)\n",
    "\n",
    "# Convert only the newly created one-hot encoded columns to int\n",
    "one_hot_encoded_columns = df_encoded.columns.difference(df.columns)\n",
    "\n",
    "# Apply astype(int) only to these new one-hot encoded columns\n",
    "df_encoded[one_hot_encoded_columns] = df_encoded[one_hot_encoded_columns].astype(int)\n",
    "\n",
    "# Replace original DataFrame with the encoded version\n",
    "df = df_encoded.copy()\n",
    "\n",
    "\n",
    "print(\"DataFrame after One-Hot Encoding with original columns replaced:\")\n",
    "print(df)\n"
   ]
  },
  {
   "cell_type": "markdown",
   "id": "1c99dc2f-f29a-46e2-8095-5eaf6c677c56",
   "metadata": {},
   "source": [
    "### Scaling numerical features"
   ]
  },
  {
   "cell_type": "code",
   "execution_count": 76,
   "id": "88ba65fb-9fb4-4657-89f7-b7a376b33243",
   "metadata": {},
   "outputs": [
    {
     "name": "stdout",
     "output_type": "stream",
     "text": [
      "Final DataFrame after selective scaling:\n",
      "   Payment History  City  Previous Defaults  Risk Rating  Loan Purpose_Auto  \\\n",
      "0                3     0                2.0            1                  0   \n",
      "1                1     0                3.0            1                  0   \n",
      "2                2     0                0.0            1                  0   \n",
      "3                3     0                1.0            1                  0   \n",
      "4                1     0                4.0            1                  1   \n",
      "\n",
      "   Loan Purpose_Business  Loan Purpose_Home  Loan Purpose_Personal  \\\n",
      "0                      1                  0                      0   \n",
      "1                      0                  0                      1   \n",
      "2                      0                  0                      1   \n",
      "3                      1                  0                      0   \n",
      "4                      0                  0                      0   \n",
      "\n",
      "   Employment Status_Employed  Employment Status_Self-employed  \\\n",
      "0                           0                                0   \n",
      "1                           0                                0   \n",
      "2                           0                                1   \n",
      "3                           0                                0   \n",
      "4                           0                                0   \n",
      "\n",
      "   Employment Status_Unemployed       Age    Income  Loan Amount  Assets Value  \n",
      "0                             1  0.607843  0.527982     0.904832      0.357720  \n",
      "1                             1  0.137255  0.294244     0.700693      0.954058  \n",
      "2                             0  0.254902  0.252770     0.034493      0.499410  \n",
      "3                             1  0.000000  0.736789     0.498926      0.809207  \n",
      "4                             1  0.274510  0.002000     0.498926      0.741332  \n"
     ]
    }
   ],
   "source": [
    "from sklearn.preprocessing import MinMaxScaler\n",
    "\n",
    "#  Only scale certain numerical columns \n",
    "numerical_columns_to_scale = ['Age', 'Income', 'Loan Amount', 'Assets Value']\n",
    "df_numerical = df[numerical_columns_to_scale]\n",
    "\n",
    "# Apply Min-Max Scaling\n",
    "scaler = MinMaxScaler()\n",
    "df_scaled = pd.DataFrame(scaler.fit_transform(df_numerical), columns=df_numerical.columns)\n",
    "\n",
    "# Combine with the rest of the data that doesn't require scaling\n",
    "df_rest = df.drop(columns=numerical_columns_to_scale)\n",
    "df = pd.concat([df_rest, df_scaled], axis=1)\n",
    "\n",
    "print(\"Final DataFrame after selective scaling:\")\n",
    "print(df.head())\n"
   ]
  },
  {
   "cell_type": "code",
   "execution_count": 78,
   "id": "e9917c95-a60c-4eac-9456-533d0fe8165c",
   "metadata": {},
   "outputs": [
    {
     "data": {
      "image/png": "[encoded data removed]",
      "text/plain": [
       "<Figure size 640x480 with 1 Axes>"
      ]
     },
     "metadata": {},
     "output_type": "display_data"
    }
   ],
   "source": [
    "# Check class column distribution\n",
    "import matplotlib.pyplot as plt\n",
    "\n",
    "# Assuming 'df' is your DataFrame and 'Risk Rating' is your target variable\n",
    "risk_rating_counts = df['Risk Rating'].value_counts()\n",
    "\n",
    "# Plot the class distribution as a bar chart\n",
    "risk_rating_counts.plot(kind='bar')\n",
    "plt.title(\"Class Distribution\")\n",
    "plt.xlabel(\"Risk Rating\")\n",
    "plt.ylabel(\"Count\")\n",
    "plt.show()\n",
    "\n",
    "\n"
   ]
  },
  {
   "cell_type": "code",
   "execution_count": null,
   "id": "3b08e994-6ba1-4972-a84e-1bde67647720",
   "metadata": {},
   "outputs": [],
   "source": []
  },
  {
   "cell_type": "markdown",
   "id": "6947ef4c-14f8-4f53-98df-5ee220e4c6ce",
   "metadata": {},
   "source": [
    "## Split the data"
   ]
  },
  {
   "cell_type": "code",
   "execution_count": 82,
   "id": "3bbc6b48-0a64-45bc-b85c-4c79baf9a152",
   "metadata": {},
   "outputs": [],
   "source": [
    "from sklearn.model_selection import train_test_split\n",
    "\n",
    "# Splitting the data into features (X) and target (y)\n",
    "X = df.drop(columns='Risk Rating') \n",
    "y = df['Risk Rating']\n",
    "\n",
    "# Split the dataset into training and testing sets \n",
    "X_train, X_test, y_train, y_test = train_test_split(X, y, test_size=0.2, random_state=42, stratify=y)\n",
    "\n"
   ]
  },
  {
   "cell_type": "code",
   "execution_count": 84,
   "id": "b64cc6f6-1ab6-4e2f-8cfb-6d8db4e40e3f",
   "metadata": {},
   "outputs": [
    {
     "name": "stdout",
     "output_type": "stream",
     "text": [
      "Training samples: (8400, 14)\n",
      "Validation samples: (2100, 14)\n",
      "Training samples: (8400,)\n",
      "Validation samples: (2100,)\n"
     ]
    }
   ],
   "source": [
    "print(f\"Training samples: {X_train.shape}\")\n",
    "print(f\"Validation samples: {X_test.shape}\")\n",
    "print(f\"Training samples: {y_train.shape}\")\n",
    "print(f\"Validation samples: {y_test.shape}\")"
   ]
  },
  {
   "cell_type": "code",
   "execution_count": 86,
   "id": "e0861249-739b-4068-967c-2b7ef296a382",
   "metadata": {},
   "outputs": [],
   "source": [
    "## Handling class imbalance"
   ]
  },
  {
   "cell_type": "markdown",
   "id": "bb8ecfd6-bf08-436b-93f6-03cdbaeaf72a",
   "metadata": {},
   "source": [
    "#### Under Sample the majority class and Over Sample the minority class"
   ]
  },
  {
   "cell_type": "code",
   "execution_count": 89,
   "id": "1694270c-e4d7-45fc-86f7-d2e8acd90d61",
   "metadata": {},
   "outputs": [
    {
     "name": "stdout",
     "output_type": "stream",
     "text": [
      "Class distribution after resampling: Risk Rating\n",
      "1    4500\n",
      "0    4500\n",
      "Name: count, dtype: int64\n"
     ]
    }
   ],
   "source": [
    "from sklearn.utils import resample\n",
    "from sklearn.model_selection import train_test_split\n",
    "\n",
    "#'Risk Rating' is the target column\n",
    "X = df.drop(columns=['Risk Rating'])  # Features\n",
    "y = df['Risk Rating']  # Target\n",
    "\n",
    "# Combine X and y into one DataFrame for easy manipulation\n",
    "df_combined = pd.concat([X, y], axis=1)\n",
    "\n",
    "# Find the value counts for each class in the target column\n",
    "class_counts = y.value_counts()\n",
    "\n",
    "# Identify the majority and minority classes\n",
    "majority_class = class_counts.idxmax() \n",
    "minority_class = class_counts.idxmin()  \n",
    "\n",
    "# Separate each class\n",
    "df_majority = df_combined[df_combined['Risk Rating'] == majority_class]\n",
    "df_minority = df_combined[df_combined['Risk Rating'] == minority_class]\n",
    "\n",
    "# Undersample the majority class to 4500 records\n",
    "df_majority_under = resample(df_majority, replace=False, n_samples=4500, random_state=42)\n",
    "\n",
    "# Oversample the minority class to 4500 records if needed\n",
    "df_minority_over = resample(df_minority, replace=True, n_samples=4500, random_state=42)\n",
    "\n",
    "# Combine the resampled classes\n",
    "df_resampled = pd.concat([df_majority_under, df_minority_over])\n",
    "\n",
    "# Separate X and y again after resampling\n",
    "X_resampled = df_resampled.drop(columns=['Risk Rating'])\n",
    "y_resampled = df_resampled['Risk Rating']\n",
    "\n",
    "# Check class distribution after resampling\n",
    "print(f\"Class distribution after resampling: {y_resampled.value_counts()}\")\n",
    "\n",
    "# Split the dataset into training and testing sets \n",
    "X_resampled_train, X_resampled_test, y_resampled_train, y_resampled_test = train_test_split(X, y, test_size=0.2, random_state=42, stratify=y)\n"
   ]
  },
  {
   "cell_type": "code",
   "execution_count": 91,
   "id": "40c67294-834c-472d-9e83-f825e8838ea3",
   "metadata": {},
   "outputs": [
    {
     "name": "stdout",
     "output_type": "stream",
     "text": [
      "Training samples: (8400, 14)\n",
      "Validation samples: (2100, 14)\n",
      "Training samples: (8400,)\n",
      "Validation samples: (2100,)\n"
     ]
    }
   ],
   "source": [
    "print(f\"Training samples: {X_resampled_train.shape}\")\n",
    "print(f\"Validation samples: {X_resampled_test.shape}\")\n",
    "print(f\"Training samples: {y_resampled_train.shape}\")\n",
    "print(f\"Validation samples: {y_resampled_test.shape}\")"
   ]
  },
  {
   "cell_type": "markdown",
   "id": "80871028-b960-4145-b73b-4ec12d511040",
   "metadata": {},
   "source": [
    "### Handling class imbalance using SMOTETomek"
   ]
  },
  {
   "cell_type": "code",
   "execution_count": 94,
   "id": "b1e0c017-4124-4334-b230-ce4ed8bb6153",
   "metadata": {},
   "outputs": [],
   "source": [
    "#from imblearn.combine import SMOTETomek\n",
    "# Apply SMOTE + Tomek Links\n",
    "#smote_tomek = SMOTETomek(random_state=42)\n",
    "#X_train_smote_tomek, y_train_smote_tomek = smote_tomek.fit_resample(X_train, y_train)\n",
    "\n",
    "# Check the new class distribution after SMOTE + Tomek Links\n",
    "#print(\"Class distribution after SMOTE + Tomek Links:\")\n",
    "#print(y_train_smote_tomek.value_counts())\n"
   ]
  },
  {
   "cell_type": "markdown",
   "id": "de5a4272-bb5b-4217-901a-0335323bfb7d",
   "metadata": {},
   "source": [
    "### Handling class imbalance using SMOTE"
   ]
  },
  {
   "cell_type": "code",
   "execution_count": 97,
   "id": "6cc902fa-0627-40a6-80ba-3140bb7e5d46",
   "metadata": {},
   "outputs": [],
   "source": [
    "#from imblearn.combine import SMOTE\n",
    "\n",
    "# Apply SMOTE to the training data\n",
    "#smote = SMOTE(random_state=42)\n",
    "#X_train_smote, y_train_smote = smote.fit_resample(X_train, y_train)\n",
    "\n",
    "# Check the new class distribution after SMOTE\n",
    "#print(\"Class distribution after SMOTE:\")\n",
    "#print(y_train_smote.value_counts())"
   ]
  },
  {
   "cell_type": "code",
   "execution_count": 99,
   "id": "de9c7013-ac9a-41b6-9b82-7cdee27139f7",
   "metadata": {},
   "outputs": [
    {
     "data": {
      "text/html": [
       "<div>\n",
       "<style scoped>\n",
       "    .dataframe tbody tr th:only-of-type {\n",
       "        vertical-align: middle;\n",
       "    }\n",
       "\n",
       "    .dataframe tbody tr th {\n",
       "        vertical-align: top;\n",
       "    }\n",
       "\n",
       "    .dataframe thead th {\n",
       "        text-align: right;\n",
       "    }\n",
       "</style>\n",
       "<table border=\"1\" class=\"dataframe\">\n",
       "  <thead>\n",
       "    <tr style=\"text-align: right;\">\n",
       "      <th></th>\n",
       "      <th>Payment History</th>\n",
       "      <th>City</th>\n",
       "      <th>Previous Defaults</th>\n",
       "      <th>Loan Purpose_Auto</th>\n",
       "      <th>Loan Purpose_Business</th>\n",
       "      <th>Loan Purpose_Home</th>\n",
       "      <th>Loan Purpose_Personal</th>\n",
       "      <th>Employment Status_Employed</th>\n",
       "      <th>Employment Status_Self-employed</th>\n",
       "      <th>Employment Status_Unemployed</th>\n",
       "      <th>Age</th>\n",
       "      <th>Income</th>\n",
       "      <th>Loan Amount</th>\n",
       "      <th>Assets Value</th>\n",
       "    </tr>\n",
       "  </thead>\n",
       "  <tbody>\n",
       "    <tr>\n",
       "      <th>5397</th>\n",
       "      <td>2</td>\n",
       "      <td>1</td>\n",
       "      <td>4.0</td>\n",
       "      <td>0</td>\n",
       "      <td>0</td>\n",
       "      <td>1</td>\n",
       "      <td>0</td>\n",
       "      <td>0</td>\n",
       "      <td>0</td>\n",
       "      <td>1</td>\n",
       "      <td>0.450980</td>\n",
       "      <td>0.291493</td>\n",
       "      <td>0.430946</td>\n",
       "      <td>0.830397</td>\n",
       "    </tr>\n",
       "    <tr>\n",
       "      <th>6322</th>\n",
       "      <td>3</td>\n",
       "      <td>1</td>\n",
       "      <td>4.0</td>\n",
       "      <td>0</td>\n",
       "      <td>0</td>\n",
       "      <td>0</td>\n",
       "      <td>1</td>\n",
       "      <td>0</td>\n",
       "      <td>1</td>\n",
       "      <td>0</td>\n",
       "      <td>0.921569</td>\n",
       "      <td>0.114189</td>\n",
       "      <td>0.941792</td>\n",
       "      <td>0.238722</td>\n",
       "    </tr>\n",
       "    <tr>\n",
       "      <th>987</th>\n",
       "      <td>2</td>\n",
       "      <td>0</td>\n",
       "      <td>3.0</td>\n",
       "      <td>1</td>\n",
       "      <td>0</td>\n",
       "      <td>0</td>\n",
       "      <td>0</td>\n",
       "      <td>1</td>\n",
       "      <td>0</td>\n",
       "      <td>0</td>\n",
       "      <td>0.647059</td>\n",
       "      <td>0.637971</td>\n",
       "      <td>0.934747</td>\n",
       "      <td>0.499410</td>\n",
       "    </tr>\n",
       "    <tr>\n",
       "      <th>7653</th>\n",
       "      <td>2</td>\n",
       "      <td>1</td>\n",
       "      <td>0.0</td>\n",
       "      <td>1</td>\n",
       "      <td>0</td>\n",
       "      <td>0</td>\n",
       "      <td>0</td>\n",
       "      <td>0</td>\n",
       "      <td>1</td>\n",
       "      <td>0</td>\n",
       "      <td>0.843137</td>\n",
       "      <td>0.838187</td>\n",
       "      <td>0.498926</td>\n",
       "      <td>0.093653</td>\n",
       "    </tr>\n",
       "    <tr>\n",
       "      <th>3624</th>\n",
       "      <td>2</td>\n",
       "      <td>0</td>\n",
       "      <td>0.0</td>\n",
       "      <td>0</td>\n",
       "      <td>0</td>\n",
       "      <td>1</td>\n",
       "      <td>0</td>\n",
       "      <td>0</td>\n",
       "      <td>1</td>\n",
       "      <td>0</td>\n",
       "      <td>0.254902</td>\n",
       "      <td>0.351068</td>\n",
       "      <td>0.624305</td>\n",
       "      <td>0.520424</td>\n",
       "    </tr>\n",
       "    <tr>\n",
       "      <th>...</th>\n",
       "      <td>...</td>\n",
       "      <td>...</td>\n",
       "      <td>...</td>\n",
       "      <td>...</td>\n",
       "      <td>...</td>\n",
       "      <td>...</td>\n",
       "      <td>...</td>\n",
       "      <td>...</td>\n",
       "      <td>...</td>\n",
       "      <td>...</td>\n",
       "      <td>...</td>\n",
       "      <td>...</td>\n",
       "      <td>...</td>\n",
       "      <td>...</td>\n",
       "    </tr>\n",
       "    <tr>\n",
       "      <th>4891</th>\n",
       "      <td>3</td>\n",
       "      <td>0</td>\n",
       "      <td>2.0</td>\n",
       "      <td>0</td>\n",
       "      <td>0</td>\n",
       "      <td>0</td>\n",
       "      <td>1</td>\n",
       "      <td>1</td>\n",
       "      <td>0</td>\n",
       "      <td>0</td>\n",
       "      <td>0.000000</td>\n",
       "      <td>0.623450</td>\n",
       "      <td>0.818820</td>\n",
       "      <td>0.595027</td>\n",
       "    </tr>\n",
       "    <tr>\n",
       "      <th>1518</th>\n",
       "      <td>3</td>\n",
       "      <td>1</td>\n",
       "      <td>0.0</td>\n",
       "      <td>0</td>\n",
       "      <td>1</td>\n",
       "      <td>0</td>\n",
       "      <td>0</td>\n",
       "      <td>1</td>\n",
       "      <td>0</td>\n",
       "      <td>0</td>\n",
       "      <td>0.411765</td>\n",
       "      <td>0.495349</td>\n",
       "      <td>0.696426</td>\n",
       "      <td>0.975401</td>\n",
       "    </tr>\n",
       "    <tr>\n",
       "      <th>1214</th>\n",
       "      <td>0</td>\n",
       "      <td>1</td>\n",
       "      <td>0.0</td>\n",
       "      <td>0</td>\n",
       "      <td>1</td>\n",
       "      <td>0</td>\n",
       "      <td>0</td>\n",
       "      <td>0</td>\n",
       "      <td>1</td>\n",
       "      <td>0</td>\n",
       "      <td>0.607843</td>\n",
       "      <td>0.859149</td>\n",
       "      <td>0.399809</td>\n",
       "      <td>0.280066</td>\n",
       "    </tr>\n",
       "    <tr>\n",
       "      <th>225</th>\n",
       "      <td>0</td>\n",
       "      <td>0</td>\n",
       "      <td>2.0</td>\n",
       "      <td>0</td>\n",
       "      <td>1</td>\n",
       "      <td>0</td>\n",
       "      <td>0</td>\n",
       "      <td>0</td>\n",
       "      <td>0</td>\n",
       "      <td>1</td>\n",
       "      <td>0.529412</td>\n",
       "      <td>0.495349</td>\n",
       "      <td>0.849558</td>\n",
       "      <td>0.826803</td>\n",
       "    </tr>\n",
       "    <tr>\n",
       "      <th>8160</th>\n",
       "      <td>1</td>\n",
       "      <td>0</td>\n",
       "      <td>0.0</td>\n",
       "      <td>0</td>\n",
       "      <td>1</td>\n",
       "      <td>0</td>\n",
       "      <td>0</td>\n",
       "      <td>0</td>\n",
       "      <td>1</td>\n",
       "      <td>0</td>\n",
       "      <td>0.588235</td>\n",
       "      <td>0.614099</td>\n",
       "      <td>0.107525</td>\n",
       "      <td>0.497526</td>\n",
       "    </tr>\n",
       "  </tbody>\n",
       "</table>\n",
       "<p>8400 rows × 14 columns</p>\n",
       "</div>"
      ],
      "text/plain": [
       "      Payment History  City  Previous Defaults  Loan Purpose_Auto  \\\n",
       "5397                2     1                4.0                  0   \n",
       "6322                3     1                4.0                  0   \n",
       "987                 2     0                3.0                  1   \n",
       "7653                2     1                0.0                  1   \n",
       "3624                2     0                0.0                  0   \n",
       "...               ...   ...                ...                ...   \n",
       "4891                3     0                2.0                  0   \n",
       "1518                3     1                0.0                  0   \n",
       "1214                0     1                0.0                  0   \n",
       "225                 0     0                2.0                  0   \n",
       "8160                1     0                0.0                  0   \n",
       "\n",
       "      Loan Purpose_Business  Loan Purpose_Home  Loan Purpose_Personal  \\\n",
       "5397                      0                  1                      0   \n",
       "6322                      0                  0                      1   \n",
       "987                       0                  0                      0   \n",
       "7653                      0                  0                      0   \n",
       "3624                      0                  1                      0   \n",
       "...                     ...                ...                    ...   \n",
       "4891                      0                  0                      1   \n",
       "1518                      1                  0                      0   \n",
       "1214                      1                  0                      0   \n",
       "225                       1                  0                      0   \n",
       "8160                      1                  0                      0   \n",
       "\n",
       "      Employment Status_Employed  Employment Status_Self-employed  \\\n",
       "5397                           0                                0   \n",
       "6322                           0                                1   \n",
       "987                            1                                0   \n",
       "7653                           0                                1   \n",
       "3624                           0                                1   \n",
       "...                          ...                              ...   \n",
       "4891                           1                                0   \n",
       "1518                           1                                0   \n",
       "1214                           0                                1   \n",
       "225                            0                                0   \n",
       "8160                           0                                1   \n",
       "\n",
       "      Employment Status_Unemployed       Age    Income  Loan Amount  \\\n",
       "5397                             1  0.450980  0.291493     0.430946   \n",
       "6322                             0  0.921569  0.114189     0.941792   \n",
       "987                              0  0.647059  0.637971     0.934747   \n",
       "7653                             0  0.843137  0.838187     0.498926   \n",
       "3624                             0  0.254902  0.351068     0.624305   \n",
       "...                            ...       ...       ...          ...   \n",
       "4891                             0  0.000000  0.623450     0.818820   \n",
       "1518                             0  0.411765  0.495349     0.696426   \n",
       "1214                             0  0.607843  0.859149     0.399809   \n",
       "225                              1  0.529412  0.495349     0.849558   \n",
       "8160                             0  0.588235  0.614099     0.107525   \n",
       "\n",
       "      Assets Value  \n",
       "5397      0.830397  \n",
       "6322      0.238722  \n",
       "987       0.499410  \n",
       "7653      0.093653  \n",
       "3624      0.520424  \n",
       "...            ...  \n",
       "4891      0.595027  \n",
       "1518      0.975401  \n",
       "1214      0.280066  \n",
       "225       0.826803  \n",
       "8160      0.497526  \n",
       "\n",
       "[8400 rows x 14 columns]"
      ]
     },
     "execution_count": 99,
     "metadata": {},
     "output_type": "execute_result"
    }
   ],
   "source": [
    "X_train"
   ]
  },
  {
   "cell_type": "markdown",
   "id": "2343aa02-2dd5-46e8-8722-ab32157b00d4",
   "metadata": {},
   "source": [
    "## Model Selection"
   ]
  },
  {
   "cell_type": "markdown",
   "id": "dbf9ba39-70ff-4580-9245-4cf9c5726a03",
   "metadata": {},
   "source": [
    "#### Without using imbalance techniques"
   ]
  },
  {
   "cell_type": "code",
   "execution_count": 37,
   "id": "15f92da0-a265-409f-9360-07c692017dab",
   "metadata": {},
   "outputs": [
    {
     "name": "stdout",
     "output_type": "stream",
     "text": [
      "Logistic Regression: Accuracy = 0.9576190476190476\n",
      "              precision    recall  f1-score   support\n",
      "\n",
      "           0       0.83      0.89      0.86       300\n",
      "           1       0.98      0.97      0.98      1800\n",
      "\n",
      "    accuracy                           0.96      2100\n",
      "   macro avg       0.90      0.93      0.92      2100\n",
      "weighted avg       0.96      0.96      0.96      2100\n",
      "\n",
      "Random Forest: Accuracy = 0.9571428571428572\n",
      "              precision    recall  f1-score   support\n",
      "\n",
      "           0       0.83      0.89      0.86       300\n",
      "           1       0.98      0.97      0.97      1800\n",
      "\n",
      "    accuracy                           0.96      2100\n",
      "   macro avg       0.90      0.93      0.92      2100\n",
      "weighted avg       0.96      0.96      0.96      2100\n",
      "\n",
      "Gradient Boosting: Accuracy = 0.9566666666666667\n",
      "              precision    recall  f1-score   support\n",
      "\n",
      "           0       0.82      0.89      0.85       300\n",
      "           1       0.98      0.97      0.97      1800\n",
      "\n",
      "    accuracy                           0.96      2100\n",
      "   macro avg       0.90      0.93      0.91      2100\n",
      "weighted avg       0.96      0.96      0.96      2100\n",
      "\n",
      "K-Nearest Neighbors: Accuracy = 0.9352380952380952\n",
      "              precision    recall  f1-score   support\n",
      "\n",
      "           0       0.82      0.71      0.76       300\n",
      "           1       0.95      0.97      0.96      1800\n",
      "\n",
      "    accuracy                           0.94      2100\n",
      "   macro avg       0.88      0.84      0.86      2100\n",
      "weighted avg       0.93      0.94      0.93      2100\n",
      "\n",
      "SVM: Accuracy = 0.9576190476190476\n",
      "              precision    recall  f1-score   support\n",
      "\n",
      "           0       0.83      0.89      0.86       300\n",
      "           1       0.98      0.97      0.98      1800\n",
      "\n",
      "    accuracy                           0.96      2100\n",
      "   macro avg       0.90      0.93      0.92      2100\n",
      "weighted avg       0.96      0.96      0.96      2100\n",
      "\n"
     ]
    }
   ],
   "source": [
    "from sklearn.linear_model import LogisticRegression\n",
    "from sklearn.ensemble import RandomForestClassifier, GradientBoostingClassifier\n",
    "from sklearn.neighbors import KNeighborsClassifier\n",
    "from sklearn.svm import SVC\n",
    "from sklearn.metrics import accuracy_score, classification_report\n",
    "from sklearn.model_selection import cross_val_score\n",
    "\n",
    "# List of models to evaluate\n",
    "models = {\n",
    "    \"Logistic Regression\": LogisticRegression(multi_class='multinomial', solver='lbfgs', max_iter=500),\n",
    "    \"Random Forest\": RandomForestClassifier(),\n",
    "    \"Gradient Boosting\": GradientBoostingClassifier(),\n",
    "    \"K-Nearest Neighbors\": KNeighborsClassifier(),\n",
    "    \"SVM\": SVC(kernel='linear')\n",
    "}\n",
    "\n",
    "# Evaluate each model using cross-validation\n",
    "for name, model in models.items():\n",
    "    model.fit(X_train, y_train)\n",
    "    y_pred = model.predict(X_test)\n",
    "    accuracy = accuracy_score(y_test, y_pred)\n",
    "    print(f\"{name}: Accuracy = {accuracy}\")\n",
    "    print(classification_report(y_test, y_pred))\n"
   ]
  },
  {
   "cell_type": "markdown",
   "id": "3140d411-0f70-4d77-a2a8-90924e52f89e",
   "metadata": {},
   "source": [
    "#### After applying Under Sample the majority class and Over Sample the minority class"
   ]
  },
  {
   "cell_type": "code",
   "execution_count": 101,
   "id": "ea667a2f-9f1b-444b-8c39-724e96d13763",
   "metadata": {},
   "outputs": [
    {
     "name": "stdout",
     "output_type": "stream",
     "text": [
      "Logistic Regression: Accuracy = 0.9576190476190476\n",
      "              precision    recall  f1-score   support\n",
      "\n",
      "           0       0.83      0.89      0.86       300\n",
      "           1       0.98      0.97      0.98      1800\n",
      "\n",
      "    accuracy                           0.96      2100\n",
      "   macro avg       0.90      0.93      0.92      2100\n",
      "weighted avg       0.96      0.96      0.96      2100\n",
      "\n",
      "Random Forest: Accuracy = 0.9576190476190476\n",
      "              precision    recall  f1-score   support\n",
      "\n",
      "           0       0.83      0.89      0.86       300\n",
      "           1       0.98      0.97      0.98      1800\n",
      "\n",
      "    accuracy                           0.96      2100\n",
      "   macro avg       0.90      0.93      0.92      2100\n",
      "weighted avg       0.96      0.96      0.96      2100\n",
      "\n",
      "Gradient Boosting: Accuracy = 0.9571428571428572\n",
      "              precision    recall  f1-score   support\n",
      "\n",
      "           0       0.83      0.89      0.86       300\n",
      "           1       0.98      0.97      0.97      1800\n",
      "\n",
      "    accuracy                           0.96      2100\n",
      "   macro avg       0.90      0.93      0.92      2100\n",
      "weighted avg       0.96      0.96      0.96      2100\n",
      "\n",
      "K-Nearest Neighbors: Accuracy = 0.9352380952380952\n",
      "              precision    recall  f1-score   support\n",
      "\n",
      "           0       0.82      0.71      0.76       300\n",
      "           1       0.95      0.97      0.96      1800\n",
      "\n",
      "    accuracy                           0.94      2100\n",
      "   macro avg       0.88      0.84      0.86      2100\n",
      "weighted avg       0.93      0.94      0.93      2100\n",
      "\n",
      "SVM: Accuracy = 0.9576190476190476\n",
      "              precision    recall  f1-score   support\n",
      "\n",
      "           0       0.83      0.89      0.86       300\n",
      "           1       0.98      0.97      0.98      1800\n",
      "\n",
      "    accuracy                           0.96      2100\n",
      "   macro avg       0.90      0.93      0.92      2100\n",
      "weighted avg       0.96      0.96      0.96      2100\n",
      "\n"
     ]
    }
   ],
   "source": [
    "from sklearn.linear_model import LogisticRegression\n",
    "from sklearn.ensemble import RandomForestClassifier, GradientBoostingClassifier\n",
    "from sklearn.neighbors import KNeighborsClassifier\n",
    "from sklearn.svm import SVC\n",
    "from sklearn.metrics import accuracy_score, classification_report\n",
    "from sklearn.model_selection import cross_val_score\n",
    "\n",
    "# List of models to evaluate\n",
    "models = {\n",
    "    \"Logistic Regression\": LogisticRegression(multi_class='multinomial', solver='lbfgs', max_iter=500),\n",
    "    \"Random Forest\": RandomForestClassifier(),\n",
    "    \"Gradient Boosting\": GradientBoostingClassifier(),\n",
    "    \"K-Nearest Neighbors\": KNeighborsClassifier(),\n",
    "    \"SVM\": SVC(kernel='linear')\n",
    "}\n",
    "\n",
    "# Evaluate each model using cross-validation\n",
    "for name, model in models.items():\n",
    "    model.fit(X_resampled_train, y_resampled_train)\n",
    "    y_pred = model.predict(X_resampled_test)\n",
    "    accuracy = accuracy_score(y_resampled_test, y_pred)\n",
    "    print(f\"{name}: Accuracy = {accuracy}\")\n",
    "    print(classification_report(y_resampled_test, y_pred))\n"
   ]
  },
  {
   "cell_type": "markdown",
   "id": "c70cdffa-6b6d-4e1f-ac90-64803d581cc2",
   "metadata": {},
   "source": [
    "## Model Training"
   ]
  },
  {
   "cell_type": "code",
   "execution_count": 104,
   "id": "1cee6a80-3ec2-46be-912e-3046fb879f7e",
   "metadata": {},
   "outputs": [
    {
     "name": "stdout",
     "output_type": "stream",
     "text": [
      "Model saved successfully!\n"
     ]
    }
   ],
   "source": [
    "import joblib\n",
    "\n",
    "# Assuming RandomForest was the best-performing model\n",
    "best_model = RandomForestClassifier()\n",
    "best_model.fit(X_train, y_train)\n",
    "\n",
    "# Save the model to a file\n",
    "joblib.dump(best_model, 'best_model.pkl')\n",
    "print(\"Model saved successfully!\")\n",
    "\n"
   ]
  },
  {
   "cell_type": "markdown",
   "id": "f1c01cb8-f063-448f-8deb-583160366650",
   "metadata": {},
   "source": [
    "### Confusion Matrix for Model Performance Evaluation"
   ]
  },
  {
   "cell_type": "code",
   "execution_count": 107,
   "id": "4a5e7adb-908f-4a09-9d55-13e421f2ffc7",
   "metadata": {},
   "outputs": [
    {
     "data": {
      "image/png": "[encoded data removed]",
      "text/plain": [
       "<Figure size 640x480 with 2 Axes>"
      ]
     },
     "metadata": {},
     "output_type": "display_data"
    }
   ],
   "source": [
    "from sklearn.metrics import confusion_matrix, ConfusionMatrixDisplay\n",
    "import matplotlib.pyplot as plt\n",
    "\n",
    "# Calculate the confusion matrix\n",
    "cm = confusion_matrix(y_test, y_pred)\n",
    "\n",
    "# Create a confusion matrix display with custom labels ('False', 'True')\n",
    "disp = ConfusionMatrixDisplay(confusion_matrix=cm, display_labels=['False', 'True'])\n",
    "\n",
    "# Plot the confusion matrix with the 'Blues' color map\n",
    "disp.plot(cmap='Blues')\n",
    "plt.show()\n",
    "\n"
   ]
  },
  {
   "cell_type": "markdown",
   "id": "584b5ab1-d87c-49f0-b3d3-8f79ab610a0f",
   "metadata": {},
   "source": [
    "## Hyperparameter Tuning"
   ]
  },
  {
   "cell_type": "code",
   "execution_count": 110,
   "id": "2a462933-99df-49d6-91b1-e801598088b1",
   "metadata": {},
   "outputs": [
    {
     "name": "stdout",
     "output_type": "stream",
     "text": [
      "Fitting 5 folds for each of 81 candidates, totalling 405 fits\n",
      "Best parameters: {'max_depth': 10, 'min_samples_leaf': 1, 'min_samples_split': 2, 'n_estimators': 200}\n",
      "Test Accuracy: 0.9576190476190476\n",
      "              precision    recall  f1-score   support\n",
      "\n",
      "           0       0.83      0.89      0.86       300\n",
      "           1       0.98      0.97      0.98      1800\n",
      "\n",
      "    accuracy                           0.96      2100\n",
      "   macro avg       0.90      0.93      0.92      2100\n",
      "weighted avg       0.96      0.96      0.96      2100\n",
      "\n"
     ]
    }
   ],
   "source": [
    "from sklearn.model_selection import GridSearchCV\n",
    "\n",
    "# Initialize RandomForestClassifier\n",
    "rf = RandomForestClassifier(random_state=42)\n",
    "\n",
    "# Define hyperparameters to tune\n",
    "param_grid = {\n",
    "    'n_estimators': [100, 200, 300],\n",
    "    'max_depth': [10, 20, 30],\n",
    "    'min_samples_split': [2, 5, 10],\n",
    "    'min_samples_leaf': [1, 2, 4]\n",
    "}\n",
    "\n",
    "# Perform GridSearchCV to find the best hyperparameters\n",
    "grid_search = GridSearchCV(estimator=rf, param_grid=param_grid, cv=5, scoring='accuracy', n_jobs=-1, verbose=2)\n",
    "\n",
    "# Train the model\n",
    "grid_search.fit(X_train, y_train)\n",
    "\n",
    "# Get the best parameters\n",
    "print(f\"Best parameters: {grid_search.best_params_}\")\n",
    "\n",
    "# Evaluate on test data\n",
    "y_pred = grid_search.predict(X_test)\n",
    "print(f\"Test Accuracy: {accuracy_score(y_test, y_pred)}\")\n",
    "print(classification_report(y_test, y_pred))\n"
   ]
  },
  {
   "cell_type": "markdown",
   "id": "e6e2e147-0812-4f6a-a399-c5440c9cd017",
   "metadata": {},
   "source": [
    "### Learning Curve"
   ]
  },
  {
   "cell_type": "code",
   "execution_count": 112,
   "id": "6f7d683b-d735-4e1a-8f51-e07d5a19f8f9",
   "metadata": {},
   "outputs": [
    {
     "data": {
      "image/png": "[encoded data removed]",
      "text/plain": [
       "<Figure size 1000x600 with 1 Axes>"
      ]
     },
     "metadata": {},
     "output_type": "display_data"
    }
   ],
   "source": [
    "from sklearn.model_selection import learning_curve\n",
    "train_sizes, train_scores, test_scores = learning_curve(grid_search.best_estimator_, \n",
    "                                                        X_train, y_train, cv=5, \n",
    "                                                        scoring='accuracy')\n",
    "plt.figure(figsize=(10, 6))\n",
    "plt.plot(train_sizes, train_scores.mean(axis=1), label=\"Training Score\")\n",
    "plt.plot(train_sizes, test_scores.mean(axis=1), label=\"Cross-validation Score\")\n",
    "plt.xlabel(\"Training Set Size\")\n",
    "plt.ylabel(\"Accuracy\")\n",
    "plt.title(\"Learning Curve\")\n",
    "plt.legend()\n",
    "plt.show()"
   ]
  },
  {
   "cell_type": "markdown",
   "id": "838eb4a5-ea37-4eed-89ee-4573eae7a116",
   "metadata": {},
   "source": [
    "### Cross-Validation"
   ]
  },
  {
   "cell_type": "code",
   "execution_count": 114,
   "id": "559bb06a-a187-4f18-9448-26d084d57ef2",
   "metadata": {},
   "outputs": [
    {
     "name": "stdout",
     "output_type": "stream",
     "text": [
      "Cross-validation accuracy: 0.9528571428571428\n"
     ]
    }
   ],
   "source": [
    "# Cross-validation on training data\n",
    "cv_scores = cross_val_score(grid_search.best_estimator_, X_train, y_train, cv=5, scoring='accuracy')\n",
    "\n",
    "print(f\"Cross-validation accuracy: {cv_scores.mean()}\")\n"
   ]
  },
  {
   "cell_type": "code",
   "execution_count": 115,
   "id": "cba1812b-5c4a-4687-a06d-33b620a1cb91",
   "metadata": {},
   "outputs": [
    {
     "data": {
      "image/png": "[encoded data removed]",
      "text/plain": [
       "<Figure size 640x480 with 1 Axes>"
      ]
     },
     "metadata": {},
     "output_type": "display_data"
    }
   ],
   "source": [
    "plt.boxplot(cv_scores)\n",
    "plt.title(\"Cross-validation Accuracy Scores\")\n",
    "plt.ylabel(\"Accuracy\")\n",
    "plt.show()\n"
   ]
  },
  {
   "cell_type": "code",
   "execution_count": 116,
   "id": "35b8ecd3-2cab-4c94-9fc2-b47ef048e031",
   "metadata": {},
   "outputs": [
    {
     "data": {
      "text/plain": [
       "Index(['Payment History', 'City', 'Previous Defaults', 'Risk Rating',\n",
       "       'Loan Purpose_Auto', 'Loan Purpose_Business', 'Loan Purpose_Home',\n",
       "       'Loan Purpose_Personal', 'Employment Status_Employed',\n",
       "       'Employment Status_Self-employed', 'Employment Status_Unemployed',\n",
       "       'Age', 'Income', 'Loan Amount', 'Assets Value'],\n",
       "      dtype='object')"
      ]
     },
     "execution_count": 116,
     "metadata": {},
     "output_type": "execute_result"
    }
   ],
   "source": [
    "df.columns"
   ]
  },
  {
   "cell_type": "markdown",
   "id": "995e5073-6d0d-4093-935a-af35b4043e0c",
   "metadata": {},
   "source": [
    "### Making Predictions"
   ]
  },
  {
   "cell_type": "code",
   "execution_count": 41,
   "id": "254b33ab-3fec-4e35-b816-7d934a86e774",
   "metadata": {},
   "outputs": [
    {
     "name": "stdout",
     "output_type": "stream",
     "text": [
      "Prediction for Test Case 1: High Risk, Probability: [0.23 0.77]\n",
      "Prediction for Test Case 2: High Risk, Probability: [0.24 0.76]\n",
      "Prediction for Test Case 3: Low Risk, Probability: [0.62 0.38]\n",
      "Prediction for Test Case 4: High Risk, Probability: [0.23 0.77]\n",
      "Prediction for Test Case 5: Low Risk, Probability: [0.6 0.4]\n"
     ]
    }
   ],
   "source": [
    "import pandas as pd\n",
    "import joblib \n",
    "\n",
    "# Load your trained model\n",
    "model = joblib.load('best_model.pkl')  \n",
    "\n",
    "# New prediction data after dropping columns\n",
    "test_values_new = [\n",
    "    {\n",
    "        'Payment History': 4,\n",
    "        'City': 0,\n",
    "        'Marital Status Change': 0,\n",
    "        'Gender_Female': 0,\n",
    "        'Gender_Male': 1,\n",
    "        'Marital Status_Married': 1,\n",
    "        'Loan Purpose_Auto': 1,\n",
    "        'Loan Purpose_Business': 0,\n",
    "        'Loan Purpose_Personal': 0,\n",
    "        'Employment Status_Employed': 1,\n",
    "        'Employment Status_Unemployed': 0,\n",
    "        'Loan Amount': 18000,\n",
    "        'Assets Value': 60000,\n",
    "        'Years at Current Job': 8\n",
    "    },\n",
    "    {\n",
    "        'Payment History': 1,\n",
    "        'City': 0,\n",
    "        'Marital Status Change': 1,\n",
    "        'Gender_Female': 1,\n",
    "        'Gender_Male': 0,\n",
    "        'Marital Status_Married': 0,\n",
    "        'Loan Purpose_Auto': 0,\n",
    "        'Loan Purpose_Business': 1,\n",
    "        'Loan Purpose_Personal': 1,\n",
    "        'Employment Status_Employed': 0,\n",
    "        'Employment Status_Unemployed': 1,\n",
    "        'Loan Amount': 9000,\n",
    "        'Assets Value': 30000,\n",
    "        'Years at Current Job': 1\n",
    "    },\n",
    "    {\n",
    "        'Payment History': 5,\n",
    "        'City': 1,\n",
    "        'Marital Status Change': 1,\n",
    "        'Gender_Female': 0,\n",
    "        'Gender_Male': 1,\n",
    "        'Marital Status_Married': 1,\n",
    "        'Loan Purpose_Auto': 0,\n",
    "        'Loan Purpose_Business': 0,\n",
    "        'Loan Purpose_Personal': 0,\n",
    "        'Employment Status_Employed': 1,\n",
    "        'Employment Status_Unemployed': 0,\n",
    "        'Loan Amount': 25000,\n",
    "        'Assets Value': 80000,\n",
    "        'Years at Current Job': 12\n",
    "    },\n",
    "    {\n",
    "        'Payment History': 2,\n",
    "        'City': 0,\n",
    "        'Marital Status Change': 0,\n",
    "        'Gender_Female': 1,\n",
    "        'Gender_Male': 0,\n",
    "        'Marital Status_Married': 1,\n",
    "        'Loan Purpose_Auto': 0,\n",
    "        'Loan Purpose_Business': 1,\n",
    "        'Loan Purpose_Personal': 0,\n",
    "        'Employment Status_Employed': 1,\n",
    "        'Employment Status_Unemployed': 0,\n",
    "        'Loan Amount': 14000,\n",
    "        'Assets Value': 45000,\n",
    "        'Years at Current Job': 4\n",
    "    },\n",
    "    {\n",
    "        'Payment History': 3,\n",
    "        'City': 1,\n",
    "        'Marital Status Change': 0,\n",
    "        'Gender_Female': 1,\n",
    "        'Gender_Male': 0,\n",
    "        'Marital Status_Married': 0,\n",
    "        'Loan Purpose_Auto': 1,\n",
    "        'Loan Purpose_Business': 0,\n",
    "        'Loan Purpose_Personal': 1,\n",
    "        'Employment Status_Employed': 0,\n",
    "        'Employment Status_Unemployed': 0,\n",
    "        'Loan Amount': 16000,\n",
    "        'Assets Value': 50000,\n",
    "        'Years at Current Job': 3\n",
    "    }\n",
    "]\n",
    "\n",
    "# Convert the test values to a DataFrame\n",
    "df_test_values_new = pd.DataFrame(test_values_new)\n",
    "\n",
    "# Ensure all required columns for prediction are included\n",
    "for col in model.feature_names_in_:  # Ensuring all model features are included in the test data\n",
    "    if col not in df_test_values_new.columns:\n",
    "        df_test_values_new[col] = 0\n",
    "\n",
    "# Reorder the columns to match the training data\n",
    "df_test_values_new = df_test_values_new[model.feature_names_in_]\n",
    "\n",
    "# Predict with the loaded model\n",
    "predictions = model.predict(df_test_values_new)\n",
    "probabilities = model.predict_proba(df_test_values_new)\n",
    "\n",
    "# Output the prediction and probabilities for each dataset\n",
    "for i, (prediction, prob) in enumerate(zip(predictions, probabilities), start=1):\n",
    "    print(f\"Prediction for Test Case {i}: {'High Risk' if prediction == 1 else 'Low Risk'}, Probability: {prob}\")"
   ]
  },
  {
   "cell_type": "code",
   "execution_count": null,
   "id": "4511fc61-a7c4-4c45-be6b-7eeb99ff9d64",
   "metadata": {},
   "outputs": [],
   "source": []
  }
 ],
 "metadata": {
  "kernelspec": {
   "display_name": "Python 3 (ipykernel)",
   "language": "python",
   "name": "python3"
  },
  "language_info": {
   "codemirror_mode": {
    "name": "ipython",
    "version": 3
   },
   "file_extension": ".py",
   "mimetype": "text/x-python",
   "name": "python",
   "nbconvert_exporter": "python",
   "pygments_lexer": "ipython3",
   "version": "3.12.4"
  }
 },
 "nbformat": 4,
 "nbformat_minor": 5
}
